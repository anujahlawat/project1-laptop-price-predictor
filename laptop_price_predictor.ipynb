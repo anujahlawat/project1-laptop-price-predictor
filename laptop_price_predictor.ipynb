{
 "cells": [
  {
   "cell_type": "markdown",
   "id": "360964f4",
   "metadata": {},
   "source": [
    "### 1. importing libraries"
   ]
  },
  {
   "cell_type": "code",
   "execution_count": 102,
   "id": "d6bbcd93",
   "metadata": {},
   "outputs": [],
   "source": [
    "import warnings\n",
    "warnings.filterwarnings('ignore')"
   ]
  },
  {
   "cell_type": "code",
   "execution_count": 103,
   "id": "cfe72a95",
   "metadata": {},
   "outputs": [],
   "source": [
    "import pandas as pd\n",
    "import numpy as np\n",
    "import matplotlib.pyplot as plt\n",
    "import seaborn as sns"
   ]
  },
  {
   "cell_type": "markdown",
   "id": "efa4f5f3",
   "metadata": {},
   "source": [
    "### 2. importing data"
   ]
  },
  {
   "cell_type": "code",
   "execution_count": 104,
   "id": "01c69270",
   "metadata": {},
   "outputs": [
    {
     "data": {
      "text/html": [
       "<div>\n",
       "<style scoped>\n",
       "    .dataframe tbody tr th:only-of-type {\n",
       "        vertical-align: middle;\n",
       "    }\n",
       "\n",
       "    .dataframe tbody tr th {\n",
       "        vertical-align: top;\n",
       "    }\n",
       "\n",
       "    .dataframe thead th {\n",
       "        text-align: right;\n",
       "    }\n",
       "</style>\n",
       "<table border=\"1\" class=\"dataframe\">\n",
       "  <thead>\n",
       "    <tr style=\"text-align: right;\">\n",
       "      <th></th>\n",
       "      <th>Unnamed: 0</th>\n",
       "      <th>Company</th>\n",
       "      <th>TypeName</th>\n",
       "      <th>Inches</th>\n",
       "      <th>ScreenResolution</th>\n",
       "      <th>Cpu</th>\n",
       "      <th>Ram</th>\n",
       "      <th>Memory</th>\n",
       "      <th>Gpu</th>\n",
       "      <th>OpSys</th>\n",
       "      <th>Weight</th>\n",
       "      <th>Price</th>\n",
       "    </tr>\n",
       "  </thead>\n",
       "  <tbody>\n",
       "    <tr>\n",
       "      <th>0</th>\n",
       "      <td>0</td>\n",
       "      <td>Apple</td>\n",
       "      <td>Ultrabook</td>\n",
       "      <td>13.3</td>\n",
       "      <td>IPS Panel Retina Display 2560x1600</td>\n",
       "      <td>Intel Core i5 2.3GHz</td>\n",
       "      <td>8GB</td>\n",
       "      <td>128GB SSD</td>\n",
       "      <td>Intel Iris Plus Graphics 640</td>\n",
       "      <td>macOS</td>\n",
       "      <td>1.37kg</td>\n",
       "      <td>71378.6832</td>\n",
       "    </tr>\n",
       "    <tr>\n",
       "      <th>1</th>\n",
       "      <td>1</td>\n",
       "      <td>Apple</td>\n",
       "      <td>Ultrabook</td>\n",
       "      <td>13.3</td>\n",
       "      <td>1440x900</td>\n",
       "      <td>Intel Core i5 1.8GHz</td>\n",
       "      <td>8GB</td>\n",
       "      <td>128GB Flash Storage</td>\n",
       "      <td>Intel HD Graphics 6000</td>\n",
       "      <td>macOS</td>\n",
       "      <td>1.34kg</td>\n",
       "      <td>47895.5232</td>\n",
       "    </tr>\n",
       "    <tr>\n",
       "      <th>2</th>\n",
       "      <td>2</td>\n",
       "      <td>HP</td>\n",
       "      <td>Notebook</td>\n",
       "      <td>15.6</td>\n",
       "      <td>Full HD 1920x1080</td>\n",
       "      <td>Intel Core i5 7200U 2.5GHz</td>\n",
       "      <td>8GB</td>\n",
       "      <td>256GB SSD</td>\n",
       "      <td>Intel HD Graphics 620</td>\n",
       "      <td>No OS</td>\n",
       "      <td>1.86kg</td>\n",
       "      <td>30636.0000</td>\n",
       "    </tr>\n",
       "    <tr>\n",
       "      <th>3</th>\n",
       "      <td>3</td>\n",
       "      <td>Apple</td>\n",
       "      <td>Ultrabook</td>\n",
       "      <td>15.4</td>\n",
       "      <td>IPS Panel Retina Display 2880x1800</td>\n",
       "      <td>Intel Core i7 2.7GHz</td>\n",
       "      <td>16GB</td>\n",
       "      <td>512GB SSD</td>\n",
       "      <td>AMD Radeon Pro 455</td>\n",
       "      <td>macOS</td>\n",
       "      <td>1.83kg</td>\n",
       "      <td>135195.3360</td>\n",
       "    </tr>\n",
       "    <tr>\n",
       "      <th>4</th>\n",
       "      <td>4</td>\n",
       "      <td>Apple</td>\n",
       "      <td>Ultrabook</td>\n",
       "      <td>13.3</td>\n",
       "      <td>IPS Panel Retina Display 2560x1600</td>\n",
       "      <td>Intel Core i5 3.1GHz</td>\n",
       "      <td>8GB</td>\n",
       "      <td>256GB SSD</td>\n",
       "      <td>Intel Iris Plus Graphics 650</td>\n",
       "      <td>macOS</td>\n",
       "      <td>1.37kg</td>\n",
       "      <td>96095.8080</td>\n",
       "    </tr>\n",
       "  </tbody>\n",
       "</table>\n",
       "</div>"
      ],
      "text/plain": [
       "   Unnamed: 0 Company   TypeName  Inches                    ScreenResolution  \\\n",
       "0           0   Apple  Ultrabook    13.3  IPS Panel Retina Display 2560x1600   \n",
       "1           1   Apple  Ultrabook    13.3                            1440x900   \n",
       "2           2      HP   Notebook    15.6                   Full HD 1920x1080   \n",
       "3           3   Apple  Ultrabook    15.4  IPS Panel Retina Display 2880x1800   \n",
       "4           4   Apple  Ultrabook    13.3  IPS Panel Retina Display 2560x1600   \n",
       "\n",
       "                          Cpu   Ram               Memory  \\\n",
       "0        Intel Core i5 2.3GHz   8GB            128GB SSD   \n",
       "1        Intel Core i5 1.8GHz   8GB  128GB Flash Storage   \n",
       "2  Intel Core i5 7200U 2.5GHz   8GB            256GB SSD   \n",
       "3        Intel Core i7 2.7GHz  16GB            512GB SSD   \n",
       "4        Intel Core i5 3.1GHz   8GB            256GB SSD   \n",
       "\n",
       "                            Gpu  OpSys  Weight        Price  \n",
       "0  Intel Iris Plus Graphics 640  macOS  1.37kg   71378.6832  \n",
       "1        Intel HD Graphics 6000  macOS  1.34kg   47895.5232  \n",
       "2         Intel HD Graphics 620  No OS  1.86kg   30636.0000  \n",
       "3            AMD Radeon Pro 455  macOS  1.83kg  135195.3360  \n",
       "4  Intel Iris Plus Graphics 650  macOS  1.37kg   96095.8080  "
      ]
     },
     "execution_count": 104,
     "metadata": {},
     "output_type": "execute_result"
    }
   ],
   "source": [
    "df = pd.read_csv('laptop_data.csv')\n",
    "df.head()"
   ]
  },
  {
   "cell_type": "code",
   "execution_count": 105,
   "id": "4a1fa5f5",
   "metadata": {},
   "outputs": [],
   "source": [
    "#1. we have to remove some unwanted columns.\n",
    "#2. we have to do a lot of feature engineering. let take screen resolution column it contains several info like \n",
    "#   display type (ips, hd, full hd), retina dispaly or not, resolution type i.e. so many info in a single column"
   ]
  },
  {
   "cell_type": "code",
   "execution_count": 106,
   "id": "a6648383",
   "metadata": {},
   "outputs": [
    {
     "data": {
      "text/html": [
       "<div>\n",
       "<style scoped>\n",
       "    .dataframe tbody tr th:only-of-type {\n",
       "        vertical-align: middle;\n",
       "    }\n",
       "\n",
       "    .dataframe tbody tr th {\n",
       "        vertical-align: top;\n",
       "    }\n",
       "\n",
       "    .dataframe thead th {\n",
       "        text-align: right;\n",
       "    }\n",
       "</style>\n",
       "<table border=\"1\" class=\"dataframe\">\n",
       "  <thead>\n",
       "    <tr style=\"text-align: right;\">\n",
       "      <th></th>\n",
       "      <th>Company</th>\n",
       "      <th>TypeName</th>\n",
       "      <th>Inches</th>\n",
       "      <th>ScreenResolution</th>\n",
       "      <th>Cpu</th>\n",
       "      <th>Ram</th>\n",
       "      <th>Memory</th>\n",
       "      <th>Gpu</th>\n",
       "      <th>OpSys</th>\n",
       "      <th>Weight</th>\n",
       "      <th>Price</th>\n",
       "    </tr>\n",
       "  </thead>\n",
       "  <tbody>\n",
       "    <tr>\n",
       "      <th>0</th>\n",
       "      <td>Apple</td>\n",
       "      <td>Ultrabook</td>\n",
       "      <td>13.3</td>\n",
       "      <td>IPS Panel Retina Display 2560x1600</td>\n",
       "      <td>Intel Core i5 2.3GHz</td>\n",
       "      <td>8GB</td>\n",
       "      <td>128GB SSD</td>\n",
       "      <td>Intel Iris Plus Graphics 640</td>\n",
       "      <td>macOS</td>\n",
       "      <td>1.37kg</td>\n",
       "      <td>71378.6832</td>\n",
       "    </tr>\n",
       "    <tr>\n",
       "      <th>1</th>\n",
       "      <td>Apple</td>\n",
       "      <td>Ultrabook</td>\n",
       "      <td>13.3</td>\n",
       "      <td>1440x900</td>\n",
       "      <td>Intel Core i5 1.8GHz</td>\n",
       "      <td>8GB</td>\n",
       "      <td>128GB Flash Storage</td>\n",
       "      <td>Intel HD Graphics 6000</td>\n",
       "      <td>macOS</td>\n",
       "      <td>1.34kg</td>\n",
       "      <td>47895.5232</td>\n",
       "    </tr>\n",
       "    <tr>\n",
       "      <th>2</th>\n",
       "      <td>HP</td>\n",
       "      <td>Notebook</td>\n",
       "      <td>15.6</td>\n",
       "      <td>Full HD 1920x1080</td>\n",
       "      <td>Intel Core i5 7200U 2.5GHz</td>\n",
       "      <td>8GB</td>\n",
       "      <td>256GB SSD</td>\n",
       "      <td>Intel HD Graphics 620</td>\n",
       "      <td>No OS</td>\n",
       "      <td>1.86kg</td>\n",
       "      <td>30636.0000</td>\n",
       "    </tr>\n",
       "    <tr>\n",
       "      <th>3</th>\n",
       "      <td>Apple</td>\n",
       "      <td>Ultrabook</td>\n",
       "      <td>15.4</td>\n",
       "      <td>IPS Panel Retina Display 2880x1800</td>\n",
       "      <td>Intel Core i7 2.7GHz</td>\n",
       "      <td>16GB</td>\n",
       "      <td>512GB SSD</td>\n",
       "      <td>AMD Radeon Pro 455</td>\n",
       "      <td>macOS</td>\n",
       "      <td>1.83kg</td>\n",
       "      <td>135195.3360</td>\n",
       "    </tr>\n",
       "    <tr>\n",
       "      <th>4</th>\n",
       "      <td>Apple</td>\n",
       "      <td>Ultrabook</td>\n",
       "      <td>13.3</td>\n",
       "      <td>IPS Panel Retina Display 2560x1600</td>\n",
       "      <td>Intel Core i5 3.1GHz</td>\n",
       "      <td>8GB</td>\n",
       "      <td>256GB SSD</td>\n",
       "      <td>Intel Iris Plus Graphics 650</td>\n",
       "      <td>macOS</td>\n",
       "      <td>1.37kg</td>\n",
       "      <td>96095.8080</td>\n",
       "    </tr>\n",
       "  </tbody>\n",
       "</table>\n",
       "</div>"
      ],
      "text/plain": [
       "  Company   TypeName  Inches                    ScreenResolution  \\\n",
       "0   Apple  Ultrabook    13.3  IPS Panel Retina Display 2560x1600   \n",
       "1   Apple  Ultrabook    13.3                            1440x900   \n",
       "2      HP   Notebook    15.6                   Full HD 1920x1080   \n",
       "3   Apple  Ultrabook    15.4  IPS Panel Retina Display 2880x1800   \n",
       "4   Apple  Ultrabook    13.3  IPS Panel Retina Display 2560x1600   \n",
       "\n",
       "                          Cpu   Ram               Memory  \\\n",
       "0        Intel Core i5 2.3GHz   8GB            128GB SSD   \n",
       "1        Intel Core i5 1.8GHz   8GB  128GB Flash Storage   \n",
       "2  Intel Core i5 7200U 2.5GHz   8GB            256GB SSD   \n",
       "3        Intel Core i7 2.7GHz  16GB            512GB SSD   \n",
       "4        Intel Core i5 3.1GHz   8GB            256GB SSD   \n",
       "\n",
       "                            Gpu  OpSys  Weight        Price  \n",
       "0  Intel Iris Plus Graphics 640  macOS  1.37kg   71378.6832  \n",
       "1        Intel HD Graphics 6000  macOS  1.34kg   47895.5232  \n",
       "2         Intel HD Graphics 620  No OS  1.86kg   30636.0000  \n",
       "3            AMD Radeon Pro 455  macOS  1.83kg  135195.3360  \n",
       "4  Intel Iris Plus Graphics 650  macOS  1.37kg   96095.8080  "
      ]
     },
     "execution_count": 106,
     "metadata": {},
     "output_type": "execute_result"
    }
   ],
   "source": [
    "df.drop(columns=['Unnamed: 0'],inplace=True)\n",
    "df.head()"
   ]
  },
  {
   "cell_type": "markdown",
   "id": "32fc5359",
   "metadata": {},
   "source": [
    "### 3. getting data ready"
   ]
  },
  {
   "cell_type": "code",
   "execution_count": 107,
   "id": "4287e777",
   "metadata": {},
   "outputs": [
    {
     "name": "stdout",
     "output_type": "stream",
     "text": [
      "<class 'pandas.core.frame.DataFrame'>\n",
      "RangeIndex: 1303 entries, 0 to 1302\n",
      "Data columns (total 11 columns):\n",
      " #   Column            Non-Null Count  Dtype  \n",
      "---  ------            --------------  -----  \n",
      " 0   Company           1303 non-null   object \n",
      " 1   TypeName          1303 non-null   object \n",
      " 2   Inches            1303 non-null   float64\n",
      " 3   ScreenResolution  1303 non-null   object \n",
      " 4   Cpu               1303 non-null   object \n",
      " 5   Ram               1303 non-null   object \n",
      " 6   Memory            1303 non-null   object \n",
      " 7   Gpu               1303 non-null   object \n",
      " 8   OpSys             1303 non-null   object \n",
      " 9   Weight            1303 non-null   object \n",
      " 10  Price             1303 non-null   float64\n",
      "dtypes: float64(2), object(9)\n",
      "memory usage: 112.1+ KB\n"
     ]
    }
   ],
   "source": [
    "df.info()"
   ]
  },
  {
   "cell_type": "code",
   "execution_count": 108,
   "id": "984f537e",
   "metadata": {},
   "outputs": [],
   "source": [
    "#1. ram is object type data bcoz it contains gb \n",
    "#2. similary weight is object type data bcoz it contains kg"
   ]
  },
  {
   "cell_type": "markdown",
   "id": "9dc0816f",
   "metadata": {},
   "source": [
    "#### 3.1 handling duplicates"
   ]
  },
  {
   "cell_type": "code",
   "execution_count": 109,
   "id": "6d11388e",
   "metadata": {},
   "outputs": [
    {
     "data": {
      "text/plain": [
       "(29, 11)"
      ]
     },
     "execution_count": 109,
     "metadata": {},
     "output_type": "execute_result"
    }
   ],
   "source": [
    "df[df.duplicated()].shape                                      \n",
    "\n",
    "#or df.duplicated().sum()\n",
    "\n",
    "#1. make sure you will not invlove s.no. column like 'Unnamed: 0' while checking duplicate records\n",
    "#2. there are chances that a single laptop might sold at different prices on different days. i guess that is okay bcoz generally\n",
    "#   this happens in real life as well during offer time."
   ]
  },
  {
   "cell_type": "code",
   "execution_count": 110,
   "id": "8a05386b",
   "metadata": {},
   "outputs": [],
   "source": [
    "df.drop_duplicates(inplace=True)"
   ]
  },
  {
   "cell_type": "markdown",
   "id": "71d0775b",
   "metadata": {},
   "source": [
    "#### 3.2 finding missing values"
   ]
  },
  {
   "cell_type": "code",
   "execution_count": 111,
   "id": "cae2479a",
   "metadata": {},
   "outputs": [
    {
     "data": {
      "text/plain": [
       "Company             0\n",
       "TypeName            0\n",
       "Inches              0\n",
       "ScreenResolution    0\n",
       "Cpu                 0\n",
       "Ram                 0\n",
       "Memory              0\n",
       "Gpu                 0\n",
       "OpSys               0\n",
       "Weight              0\n",
       "Price               0\n",
       "dtype: int64"
      ]
     },
     "execution_count": 111,
     "metadata": {},
     "output_type": "execute_result"
    }
   ],
   "source": [
    "df.isnull().sum()"
   ]
  },
  {
   "cell_type": "markdown",
   "id": "a7fb2629",
   "metadata": {},
   "source": [
    "#### 3.3 droping unwanted columns"
   ]
  },
  {
   "cell_type": "code",
   "execution_count": 113,
   "id": "63b97899",
   "metadata": {},
   "outputs": [],
   "source": [
    "# df.drop(columns=['Unnamed: 0'],axis=1,inplace = True)\n",
    "# df.columns\n",
    "\n",
    "#we already droped it."
   ]
  },
  {
   "cell_type": "markdown",
   "id": "f0e73b9e",
   "metadata": {},
   "source": [
    "#### 3.4 removing unwanted strings from desired columns"
   ]
  },
  {
   "cell_type": "code",
   "execution_count": 114,
   "id": "77e04a82",
   "metadata": {},
   "outputs": [],
   "source": [
    "#i want to remove kg from weight column and gb from ram column"
   ]
  },
  {
   "cell_type": "code",
   "execution_count": 115,
   "id": "8c086028",
   "metadata": {},
   "outputs": [
    {
     "data": {
      "text/html": [
       "<div>\n",
       "<style scoped>\n",
       "    .dataframe tbody tr th:only-of-type {\n",
       "        vertical-align: middle;\n",
       "    }\n",
       "\n",
       "    .dataframe tbody tr th {\n",
       "        vertical-align: top;\n",
       "    }\n",
       "\n",
       "    .dataframe thead th {\n",
       "        text-align: right;\n",
       "    }\n",
       "</style>\n",
       "<table border=\"1\" class=\"dataframe\">\n",
       "  <thead>\n",
       "    <tr style=\"text-align: right;\">\n",
       "      <th></th>\n",
       "      <th>Company</th>\n",
       "      <th>TypeName</th>\n",
       "      <th>Inches</th>\n",
       "      <th>ScreenResolution</th>\n",
       "      <th>Cpu</th>\n",
       "      <th>Ram</th>\n",
       "      <th>Memory</th>\n",
       "      <th>Gpu</th>\n",
       "      <th>OpSys</th>\n",
       "      <th>Weight</th>\n",
       "      <th>Price</th>\n",
       "    </tr>\n",
       "  </thead>\n",
       "  <tbody>\n",
       "    <tr>\n",
       "      <th>0</th>\n",
       "      <td>Apple</td>\n",
       "      <td>Ultrabook</td>\n",
       "      <td>13.3</td>\n",
       "      <td>IPS Panel Retina Display 2560x1600</td>\n",
       "      <td>Intel Core i5 2.3GHz</td>\n",
       "      <td>8</td>\n",
       "      <td>128GB SSD</td>\n",
       "      <td>Intel Iris Plus Graphics 640</td>\n",
       "      <td>macOS</td>\n",
       "      <td>1.37</td>\n",
       "      <td>71378.6832</td>\n",
       "    </tr>\n",
       "    <tr>\n",
       "      <th>1</th>\n",
       "      <td>Apple</td>\n",
       "      <td>Ultrabook</td>\n",
       "      <td>13.3</td>\n",
       "      <td>1440x900</td>\n",
       "      <td>Intel Core i5 1.8GHz</td>\n",
       "      <td>8</td>\n",
       "      <td>128GB Flash Storage</td>\n",
       "      <td>Intel HD Graphics 6000</td>\n",
       "      <td>macOS</td>\n",
       "      <td>1.34</td>\n",
       "      <td>47895.5232</td>\n",
       "    </tr>\n",
       "    <tr>\n",
       "      <th>2</th>\n",
       "      <td>HP</td>\n",
       "      <td>Notebook</td>\n",
       "      <td>15.6</td>\n",
       "      <td>Full HD 1920x1080</td>\n",
       "      <td>Intel Core i5 7200U 2.5GHz</td>\n",
       "      <td>8</td>\n",
       "      <td>256GB SSD</td>\n",
       "      <td>Intel HD Graphics 620</td>\n",
       "      <td>No OS</td>\n",
       "      <td>1.86</td>\n",
       "      <td>30636.0000</td>\n",
       "    </tr>\n",
       "    <tr>\n",
       "      <th>3</th>\n",
       "      <td>Apple</td>\n",
       "      <td>Ultrabook</td>\n",
       "      <td>15.4</td>\n",
       "      <td>IPS Panel Retina Display 2880x1800</td>\n",
       "      <td>Intel Core i7 2.7GHz</td>\n",
       "      <td>16</td>\n",
       "      <td>512GB SSD</td>\n",
       "      <td>AMD Radeon Pro 455</td>\n",
       "      <td>macOS</td>\n",
       "      <td>1.83</td>\n",
       "      <td>135195.3360</td>\n",
       "    </tr>\n",
       "    <tr>\n",
       "      <th>4</th>\n",
       "      <td>Apple</td>\n",
       "      <td>Ultrabook</td>\n",
       "      <td>13.3</td>\n",
       "      <td>IPS Panel Retina Display 2560x1600</td>\n",
       "      <td>Intel Core i5 3.1GHz</td>\n",
       "      <td>8</td>\n",
       "      <td>256GB SSD</td>\n",
       "      <td>Intel Iris Plus Graphics 650</td>\n",
       "      <td>macOS</td>\n",
       "      <td>1.37</td>\n",
       "      <td>96095.8080</td>\n",
       "    </tr>\n",
       "  </tbody>\n",
       "</table>\n",
       "</div>"
      ],
      "text/plain": [
       "  Company   TypeName  Inches                    ScreenResolution  \\\n",
       "0   Apple  Ultrabook    13.3  IPS Panel Retina Display 2560x1600   \n",
       "1   Apple  Ultrabook    13.3                            1440x900   \n",
       "2      HP   Notebook    15.6                   Full HD 1920x1080   \n",
       "3   Apple  Ultrabook    15.4  IPS Panel Retina Display 2880x1800   \n",
       "4   Apple  Ultrabook    13.3  IPS Panel Retina Display 2560x1600   \n",
       "\n",
       "                          Cpu Ram               Memory  \\\n",
       "0        Intel Core i5 2.3GHz   8            128GB SSD   \n",
       "1        Intel Core i5 1.8GHz   8  128GB Flash Storage   \n",
       "2  Intel Core i5 7200U 2.5GHz   8            256GB SSD   \n",
       "3        Intel Core i7 2.7GHz  16            512GB SSD   \n",
       "4        Intel Core i5 3.1GHz   8            256GB SSD   \n",
       "\n",
       "                            Gpu  OpSys Weight        Price  \n",
       "0  Intel Iris Plus Graphics 640  macOS   1.37   71378.6832  \n",
       "1        Intel HD Graphics 6000  macOS   1.34   47895.5232  \n",
       "2         Intel HD Graphics 620  No OS   1.86   30636.0000  \n",
       "3            AMD Radeon Pro 455  macOS   1.83  135195.3360  \n",
       "4  Intel Iris Plus Graphics 650  macOS   1.37   96095.8080  "
      ]
     },
     "execution_count": 115,
     "metadata": {},
     "output_type": "execute_result"
    }
   ],
   "source": [
    "df['Ram'] = df['Ram'].str.replace('GB','')\n",
    "df['Weight'] = df['Weight'].str.replace('kg','')\n",
    "df.head()"
   ]
  },
  {
   "cell_type": "markdown",
   "id": "93e4c0b7",
   "metadata": {},
   "source": [
    "#### 3.5 converting object data type of columns into numerical/categorical data types"
   ]
  },
  {
   "cell_type": "code",
   "execution_count": 116,
   "id": "7f68192b",
   "metadata": {},
   "outputs": [
    {
     "name": "stdout",
     "output_type": "stream",
     "text": [
      "<class 'pandas.core.frame.DataFrame'>\n",
      "Int64Index: 1274 entries, 0 to 1273\n",
      "Data columns (total 11 columns):\n",
      " #   Column            Non-Null Count  Dtype  \n",
      "---  ------            --------------  -----  \n",
      " 0   Company           1274 non-null   object \n",
      " 1   TypeName          1274 non-null   object \n",
      " 2   Inches            1274 non-null   float64\n",
      " 3   ScreenResolution  1274 non-null   object \n",
      " 4   Cpu               1274 non-null   object \n",
      " 5   Ram               1274 non-null   int32  \n",
      " 6   Memory            1274 non-null   object \n",
      " 7   Gpu               1274 non-null   object \n",
      " 8   OpSys             1274 non-null   object \n",
      " 9   Weight            1274 non-null   float32\n",
      " 10  Price             1274 non-null   float64\n",
      "dtypes: float32(1), float64(2), int32(1), object(7)\n",
      "memory usage: 109.5+ KB\n"
     ]
    }
   ],
   "source": [
    "df['Ram'] = df['Ram'].astype('int32')\n",
    "df['Weight'] = df['Weight'].astype('float32')\n",
    "df.info()"
   ]
  },
  {
   "cell_type": "markdown",
   "id": "5d7e61a6",
   "metadata": {},
   "source": [
    "### 4. feature engineering"
   ]
  },
  {
   "cell_type": "markdown",
   "id": "3f9273dc",
   "metadata": {},
   "source": [
    "#### 4.1 feature engineering on df['ScreenResolution']"
   ]
  },
  {
   "cell_type": "code",
   "execution_count": 117,
   "id": "53198767",
   "metadata": {},
   "outputs": [
    {
     "data": {
      "text/plain": [
       "Full HD 1920x1080                                505\n",
       "1366x768                                         262\n",
       "IPS Panel Full HD 1920x1080                      226\n",
       "IPS Panel Full HD / Touchscreen 1920x1080         51\n",
       "Full HD / Touchscreen 1920x1080                   47\n",
       "1600x900                                          23\n",
       "Touchscreen 1366x768                              16\n",
       "Quad HD+ / Touchscreen 3200x1800                  15\n",
       "IPS Panel 4K Ultra HD 3840x2160                   12\n",
       "IPS Panel 4K Ultra HD / Touchscreen 3840x2160     11\n",
       "4K Ultra HD / Touchscreen 3840x2160               10\n",
       "4K Ultra HD 3840x2160                              7\n",
       "Touchscreen 2560x1440                              7\n",
       "IPS Panel 1366x768                                 7\n",
       "IPS Panel Retina Display 2560x1600                 6\n",
       "IPS Panel Retina Display 2304x1440                 6\n",
       "Touchscreen 2256x1504                              6\n",
       "IPS Panel Touchscreen 2560x1440                    5\n",
       "IPS Panel Quad HD+ / Touchscreen 3200x1800         4\n",
       "IPS Panel Touchscreen 1920x1200                    4\n",
       "1440x900                                           4\n",
       "IPS Panel Retina Display 2880x1800                 4\n",
       "IPS Panel 2560x1440                                4\n",
       "2560x1440                                          3\n",
       "Quad HD+ 3200x1800                                 3\n",
       "1920x1080                                          3\n",
       "Touchscreen 2400x1600                              3\n",
       "IPS Panel Quad HD+ 2560x1440                       3\n",
       "IPS Panel Touchscreen 1366x768                     3\n",
       "IPS Panel Touchscreen / 4K Ultra HD 3840x2160      2\n",
       "IPS Panel Full HD 2160x1440                        2\n",
       "IPS Panel Quad HD+ 3200x1800                       2\n",
       "IPS Panel Retina Display 2736x1824                 1\n",
       "IPS Panel Full HD 1920x1200                        1\n",
       "IPS Panel Full HD 2560x1440                        1\n",
       "IPS Panel Full HD 1366x768                         1\n",
       "Touchscreen / Full HD 1920x1080                    1\n",
       "Touchscreen / Quad HD+ 3200x1800                   1\n",
       "Touchscreen / 4K Ultra HD 3840x2160                1\n",
       "IPS Panel Touchscreen 2400x1600                    1\n",
       "Name: ScreenResolution, dtype: int64"
      ]
     },
     "execution_count": 117,
     "metadata": {},
     "output_type": "execute_result"
    }
   ],
   "source": [
    "df['ScreenResolution'].value_counts()\n",
    "\n",
    "#1. information here is mixed up and represented in a different manner.\n",
    "#2. we have to find some common information :\n",
    "#   a) here i can see that every row has some 1920*1080 type pattern.\n",
    "#   b) laptop is touchscreen or not.\n",
    "#   c) ips panel or not."
   ]
  },
  {
   "cell_type": "markdown",
   "id": "0bfeb2db",
   "metadata": {},
   "source": [
    "##### a) extracting touchscreen and ips information"
   ]
  },
  {
   "cell_type": "code",
   "execution_count": 118,
   "id": "fbd7b384",
   "metadata": {},
   "outputs": [
    {
     "data": {
      "text/html": [
       "<div>\n",
       "<style scoped>\n",
       "    .dataframe tbody tr th:only-of-type {\n",
       "        vertical-align: middle;\n",
       "    }\n",
       "\n",
       "    .dataframe tbody tr th {\n",
       "        vertical-align: top;\n",
       "    }\n",
       "\n",
       "    .dataframe thead th {\n",
       "        text-align: right;\n",
       "    }\n",
       "</style>\n",
       "<table border=\"1\" class=\"dataframe\">\n",
       "  <thead>\n",
       "    <tr style=\"text-align: right;\">\n",
       "      <th></th>\n",
       "      <th>Company</th>\n",
       "      <th>TypeName</th>\n",
       "      <th>Inches</th>\n",
       "      <th>ScreenResolution</th>\n",
       "      <th>Cpu</th>\n",
       "      <th>Ram</th>\n",
       "      <th>Memory</th>\n",
       "      <th>Gpu</th>\n",
       "      <th>OpSys</th>\n",
       "      <th>Weight</th>\n",
       "      <th>Price</th>\n",
       "      <th>Touchscreen</th>\n",
       "      <th>Ips</th>\n",
       "    </tr>\n",
       "  </thead>\n",
       "  <tbody>\n",
       "    <tr>\n",
       "      <th>1183</th>\n",
       "      <td>Acer</td>\n",
       "      <td>Notebook</td>\n",
       "      <td>15.6</td>\n",
       "      <td>1366x768</td>\n",
       "      <td>Intel Celeron Dual Core N3350 2GHz</td>\n",
       "      <td>4</td>\n",
       "      <td>500GB HDD</td>\n",
       "      <td>Intel HD Graphics 500</td>\n",
       "      <td>Windows 10</td>\n",
       "      <td>2.100</td>\n",
       "      <td>17742.240</td>\n",
       "      <td>0</td>\n",
       "      <td>0</td>\n",
       "    </tr>\n",
       "    <tr>\n",
       "      <th>791</th>\n",
       "      <td>Vero</td>\n",
       "      <td>Notebook</td>\n",
       "      <td>14.0</td>\n",
       "      <td>1920x1080</td>\n",
       "      <td>Intel Celeron Dual Core N3350 1.1GHz</td>\n",
       "      <td>4</td>\n",
       "      <td>32GB Flash Storage</td>\n",
       "      <td>Intel HD Graphics 500</td>\n",
       "      <td>Windows 10</td>\n",
       "      <td>1.220</td>\n",
       "      <td>10810.512</td>\n",
       "      <td>0</td>\n",
       "      <td>0</td>\n",
       "    </tr>\n",
       "    <tr>\n",
       "      <th>286</th>\n",
       "      <td>Lenovo</td>\n",
       "      <td>Notebook</td>\n",
       "      <td>15.6</td>\n",
       "      <td>IPS Panel Full HD 1920x1080</td>\n",
       "      <td>Intel Core i7 7500U 2.7GHz</td>\n",
       "      <td>8</td>\n",
       "      <td>256GB SSD</td>\n",
       "      <td>Intel HD Graphics 630</td>\n",
       "      <td>Windows 10</td>\n",
       "      <td>1.950</td>\n",
       "      <td>58448.160</td>\n",
       "      <td>0</td>\n",
       "      <td>1</td>\n",
       "    </tr>\n",
       "    <tr>\n",
       "      <th>70</th>\n",
       "      <td>Microsoft</td>\n",
       "      <td>Ultrabook</td>\n",
       "      <td>13.5</td>\n",
       "      <td>Touchscreen 2256x1504</td>\n",
       "      <td>Intel Core i5 7200U 2.5GHz</td>\n",
       "      <td>4</td>\n",
       "      <td>128GB SSD</td>\n",
       "      <td>Intel HD Graphics 620</td>\n",
       "      <td>Windows 10 S</td>\n",
       "      <td>1.252</td>\n",
       "      <td>58021.920</td>\n",
       "      <td>1</td>\n",
       "      <td>0</td>\n",
       "    </tr>\n",
       "    <tr>\n",
       "      <th>21</th>\n",
       "      <td>Lenovo</td>\n",
       "      <td>Gaming</td>\n",
       "      <td>15.6</td>\n",
       "      <td>IPS Panel Full HD 1920x1080</td>\n",
       "      <td>Intel Core i5 7300HQ 2.5GHz</td>\n",
       "      <td>8</td>\n",
       "      <td>128GB SSD +  1TB HDD</td>\n",
       "      <td>Nvidia GeForce GTX 1050</td>\n",
       "      <td>Windows 10</td>\n",
       "      <td>2.500</td>\n",
       "      <td>53226.720</td>\n",
       "      <td>0</td>\n",
       "      <td>1</td>\n",
       "    </tr>\n",
       "  </tbody>\n",
       "</table>\n",
       "</div>"
      ],
      "text/plain": [
       "        Company   TypeName  Inches             ScreenResolution  \\\n",
       "1183       Acer   Notebook    15.6                     1366x768   \n",
       "791        Vero   Notebook    14.0                    1920x1080   \n",
       "286      Lenovo   Notebook    15.6  IPS Panel Full HD 1920x1080   \n",
       "70    Microsoft  Ultrabook    13.5        Touchscreen 2256x1504   \n",
       "21       Lenovo     Gaming    15.6  IPS Panel Full HD 1920x1080   \n",
       "\n",
       "                                       Cpu  Ram                Memory  \\\n",
       "1183    Intel Celeron Dual Core N3350 2GHz    4             500GB HDD   \n",
       "791   Intel Celeron Dual Core N3350 1.1GHz    4    32GB Flash Storage   \n",
       "286             Intel Core i7 7500U 2.7GHz    8             256GB SSD   \n",
       "70              Intel Core i5 7200U 2.5GHz    4             128GB SSD   \n",
       "21             Intel Core i5 7300HQ 2.5GHz    8  128GB SSD +  1TB HDD   \n",
       "\n",
       "                          Gpu         OpSys  Weight      Price  Touchscreen  \\\n",
       "1183    Intel HD Graphics 500    Windows 10   2.100  17742.240            0   \n",
       "791     Intel HD Graphics 500    Windows 10   1.220  10810.512            0   \n",
       "286     Intel HD Graphics 630    Windows 10   1.950  58448.160            0   \n",
       "70      Intel HD Graphics 620  Windows 10 S   1.252  58021.920            1   \n",
       "21    Nvidia GeForce GTX 1050    Windows 10   2.500  53226.720            0   \n",
       "\n",
       "      Ips  \n",
       "1183    0  \n",
       "791     0  \n",
       "286     1  \n",
       "70      0  \n",
       "21      1  "
      ]
     },
     "execution_count": 118,
     "metadata": {},
     "output_type": "execute_result"
    }
   ],
   "source": [
    "df['Touchscreen'] = df['ScreenResolution'].apply(lambda  x : 1 if 'Touchscreen' in x else 0)\n",
    "df['Ips'] = df['ScreenResolution'].apply(lambda  x : 1 if 'IPS' in x else 0)\n",
    "df.sample(5)"
   ]
  },
  {
   "cell_type": "markdown",
   "id": "81f611eb",
   "metadata": {},
   "source": [
    "##### b) extracting screen resolution information i.e. 1920 x 1080"
   ]
  },
  {
   "cell_type": "code",
   "execution_count": 119,
   "id": "1a71d715",
   "metadata": {},
   "outputs": [
    {
     "data": {
      "text/html": [
       "<div>\n",
       "<style scoped>\n",
       "    .dataframe tbody tr th:only-of-type {\n",
       "        vertical-align: middle;\n",
       "    }\n",
       "\n",
       "    .dataframe tbody tr th {\n",
       "        vertical-align: top;\n",
       "    }\n",
       "\n",
       "    .dataframe thead th {\n",
       "        text-align: right;\n",
       "    }\n",
       "</style>\n",
       "<table border=\"1\" class=\"dataframe\">\n",
       "  <thead>\n",
       "    <tr style=\"text-align: right;\">\n",
       "      <th></th>\n",
       "      <th>0</th>\n",
       "      <th>1</th>\n",
       "    </tr>\n",
       "  </thead>\n",
       "  <tbody>\n",
       "    <tr>\n",
       "      <th>1255</th>\n",
       "      <td>1366</td>\n",
       "      <td>768</td>\n",
       "    </tr>\n",
       "    <tr>\n",
       "      <th>579</th>\n",
       "      <td>Full HD 1920</td>\n",
       "      <td>1080</td>\n",
       "    </tr>\n",
       "    <tr>\n",
       "      <th>462</th>\n",
       "      <td>Full HD 1920</td>\n",
       "      <td>1080</td>\n",
       "    </tr>\n",
       "    <tr>\n",
       "      <th>1130</th>\n",
       "      <td>1366</td>\n",
       "      <td>768</td>\n",
       "    </tr>\n",
       "    <tr>\n",
       "      <th>643</th>\n",
       "      <td>IPS Panel Full HD 1920</td>\n",
       "      <td>1080</td>\n",
       "    </tr>\n",
       "  </tbody>\n",
       "</table>\n",
       "</div>"
      ],
      "text/plain": [
       "                           0     1\n",
       "1255                    1366   768\n",
       "579             Full HD 1920  1080\n",
       "462             Full HD 1920  1080\n",
       "1130                    1366   768\n",
       "643   IPS Panel Full HD 1920  1080"
      ]
     },
     "execution_count": 119,
     "metadata": {},
     "output_type": "execute_result"
    }
   ],
   "source": [
    "#now we will create two new columns such that one contain x_resolution and another contain y_resolution (x=1920 and y=1080)\n",
    "\n",
    "new = df['ScreenResolution'].str.split('x',n=1,expand=True)\n",
    "new.sample(5)\n",
    "#1. every resoltion i.e. 1920x1080 contains 'x', so we will split according to 'x'\n",
    "#2. expand = True will create a DataFrame"
   ]
  },
  {
   "cell_type": "code",
   "execution_count": 120,
   "id": "d9581007",
   "metadata": {},
   "outputs": [
    {
     "data": {
      "text/html": [
       "<div>\n",
       "<style scoped>\n",
       "    .dataframe tbody tr th:only-of-type {\n",
       "        vertical-align: middle;\n",
       "    }\n",
       "\n",
       "    .dataframe tbody tr th {\n",
       "        vertical-align: top;\n",
       "    }\n",
       "\n",
       "    .dataframe thead th {\n",
       "        text-align: right;\n",
       "    }\n",
       "</style>\n",
       "<table border=\"1\" class=\"dataframe\">\n",
       "  <thead>\n",
       "    <tr style=\"text-align: right;\">\n",
       "      <th></th>\n",
       "      <th>Company</th>\n",
       "      <th>TypeName</th>\n",
       "      <th>Inches</th>\n",
       "      <th>ScreenResolution</th>\n",
       "      <th>Cpu</th>\n",
       "      <th>Ram</th>\n",
       "      <th>Memory</th>\n",
       "      <th>Gpu</th>\n",
       "      <th>OpSys</th>\n",
       "      <th>Weight</th>\n",
       "      <th>Price</th>\n",
       "      <th>Touchscreen</th>\n",
       "      <th>Ips</th>\n",
       "      <th>x_res</th>\n",
       "      <th>y_res</th>\n",
       "    </tr>\n",
       "  </thead>\n",
       "  <tbody>\n",
       "    <tr>\n",
       "      <th>364</th>\n",
       "      <td>Lenovo</td>\n",
       "      <td>Notebook</td>\n",
       "      <td>15.6</td>\n",
       "      <td>1366x768</td>\n",
       "      <td>Intel Core i3 6006U 2GHz</td>\n",
       "      <td>8</td>\n",
       "      <td>256GB SSD</td>\n",
       "      <td>Nvidia GeForce 920MX</td>\n",
       "      <td>No OS</td>\n",
       "      <td>2.20</td>\n",
       "      <td>26586.720</td>\n",
       "      <td>0</td>\n",
       "      <td>0</td>\n",
       "      <td>1366</td>\n",
       "      <td>768</td>\n",
       "    </tr>\n",
       "    <tr>\n",
       "      <th>186</th>\n",
       "      <td>Dell</td>\n",
       "      <td>Notebook</td>\n",
       "      <td>15.6</td>\n",
       "      <td>4K Ultra HD / Touchscreen 3840x2160</td>\n",
       "      <td>Intel Core i7 7700HQ 2.8GHz</td>\n",
       "      <td>16</td>\n",
       "      <td>512GB SSD</td>\n",
       "      <td>Nvidia GeForce GTX 1050</td>\n",
       "      <td>Windows 10</td>\n",
       "      <td>2.06</td>\n",
       "      <td>127712.160</td>\n",
       "      <td>1</td>\n",
       "      <td>0</td>\n",
       "      <td>4K Ultra HD / Touchscreen 3840</td>\n",
       "      <td>2160</td>\n",
       "    </tr>\n",
       "    <tr>\n",
       "      <th>1087</th>\n",
       "      <td>Lenovo</td>\n",
       "      <td>Notebook</td>\n",
       "      <td>14.0</td>\n",
       "      <td>Full HD 1920x1080</td>\n",
       "      <td>Intel Core i5 6200U 2.3GHz</td>\n",
       "      <td>8</td>\n",
       "      <td>180GB SSD</td>\n",
       "      <td>Intel HD Graphics 520</td>\n",
       "      <td>Windows 7</td>\n",
       "      <td>1.70</td>\n",
       "      <td>63882.720</td>\n",
       "      <td>0</td>\n",
       "      <td>0</td>\n",
       "      <td>Full HD 1920</td>\n",
       "      <td>1080</td>\n",
       "    </tr>\n",
       "    <tr>\n",
       "      <th>180</th>\n",
       "      <td>Dell</td>\n",
       "      <td>Notebook</td>\n",
       "      <td>15.6</td>\n",
       "      <td>Full HD 1920x1080</td>\n",
       "      <td>Intel Core i7 8550U 1.8GHz</td>\n",
       "      <td>16</td>\n",
       "      <td>256GB SSD +  2TB HDD</td>\n",
       "      <td>AMD Radeon 530</td>\n",
       "      <td>Linux</td>\n",
       "      <td>2.02</td>\n",
       "      <td>55890.720</td>\n",
       "      <td>0</td>\n",
       "      <td>0</td>\n",
       "      <td>Full HD 1920</td>\n",
       "      <td>1080</td>\n",
       "    </tr>\n",
       "    <tr>\n",
       "      <th>1055</th>\n",
       "      <td>HP</td>\n",
       "      <td>Notebook</td>\n",
       "      <td>15.6</td>\n",
       "      <td>1366x768</td>\n",
       "      <td>Intel Core i3 6100U 2.3GHz</td>\n",
       "      <td>4</td>\n",
       "      <td>500GB HDD</td>\n",
       "      <td>Intel HD Graphics 520</td>\n",
       "      <td>Windows 10</td>\n",
       "      <td>2.31</td>\n",
       "      <td>37570.392</td>\n",
       "      <td>0</td>\n",
       "      <td>0</td>\n",
       "      <td>1366</td>\n",
       "      <td>768</td>\n",
       "    </tr>\n",
       "  </tbody>\n",
       "</table>\n",
       "</div>"
      ],
      "text/plain": [
       "     Company  TypeName  Inches                     ScreenResolution  \\\n",
       "364   Lenovo  Notebook    15.6                             1366x768   \n",
       "186     Dell  Notebook    15.6  4K Ultra HD / Touchscreen 3840x2160   \n",
       "1087  Lenovo  Notebook    14.0                    Full HD 1920x1080   \n",
       "180     Dell  Notebook    15.6                    Full HD 1920x1080   \n",
       "1055      HP  Notebook    15.6                             1366x768   \n",
       "\n",
       "                              Cpu  Ram                Memory  \\\n",
       "364      Intel Core i3 6006U 2GHz    8             256GB SSD   \n",
       "186   Intel Core i7 7700HQ 2.8GHz   16             512GB SSD   \n",
       "1087   Intel Core i5 6200U 2.3GHz    8             180GB SSD   \n",
       "180    Intel Core i7 8550U 1.8GHz   16  256GB SSD +  2TB HDD   \n",
       "1055   Intel Core i3 6100U 2.3GHz    4             500GB HDD   \n",
       "\n",
       "                          Gpu       OpSys  Weight       Price  Touchscreen  \\\n",
       "364     Nvidia GeForce 920MX        No OS    2.20   26586.720            0   \n",
       "186   Nvidia GeForce GTX 1050  Windows 10    2.06  127712.160            1   \n",
       "1087    Intel HD Graphics 520   Windows 7    1.70   63882.720            0   \n",
       "180            AMD Radeon 530       Linux    2.02   55890.720            0   \n",
       "1055    Intel HD Graphics 520  Windows 10    2.31   37570.392            0   \n",
       "\n",
       "      Ips                           x_res y_res  \n",
       "364     0                            1366   768  \n",
       "186     0  4K Ultra HD / Touchscreen 3840  2160  \n",
       "1087    0                    Full HD 1920  1080  \n",
       "180     0                    Full HD 1920  1080  \n",
       "1055    0                            1366   768  "
      ]
     },
     "execution_count": 120,
     "metadata": {},
     "output_type": "execute_result"
    }
   ],
   "source": [
    "df['x_res'] = new[0]\n",
    "df['y_res'] = new[1]\n",
    "df.sample(5)"
   ]
  },
  {
   "cell_type": "code",
   "execution_count": 121,
   "id": "f167c00a",
   "metadata": {},
   "outputs": [
    {
     "data": {
      "text/plain": [
       "0       [2560]\n",
       "1       [1440]\n",
       "2       [1920]\n",
       "3       [2880]\n",
       "4       [2560]\n",
       "         ...  \n",
       "1269    [1366]\n",
       "1270    [1920]\n",
       "1271    [3200]\n",
       "1272    [1366]\n",
       "1273    [1366]\n",
       "Name: x_res, Length: 1274, dtype: object"
      ]
     },
     "execution_count": 121,
     "metadata": {},
     "output_type": "execute_result"
    }
   ],
   "source": [
    "#df['y_res'] is correct\n",
    "#we will write regular exression for df['x_res']\n",
    "\n",
    "df['x_res'].str.replace(',','').str.findall(r'(\\d+\\.?\\d+)')"
   ]
  },
  {
   "cell_type": "code",
   "execution_count": 122,
   "id": "ae1578b8",
   "metadata": {},
   "outputs": [
    {
     "data": {
      "text/plain": [
       "0       2560\n",
       "1       1440\n",
       "2       1920\n",
       "3       2880\n",
       "4       2560\n",
       "        ... \n",
       "1269    1366\n",
       "1270    1920\n",
       "1271    3200\n",
       "1272    1366\n",
       "1273    1366\n",
       "Name: x_res, Length: 1274, dtype: object"
      ]
     },
     "execution_count": 122,
     "metadata": {},
     "output_type": "execute_result"
    }
   ],
   "source": [
    "#now i have to move these values from list\n",
    "\n",
    "df['x_res'].str.replace(',','').str.findall(r'(\\d+\\.?\\d+)').apply(lambda x : x[0])"
   ]
  },
  {
   "cell_type": "code",
   "execution_count": 123,
   "id": "e87b9c90",
   "metadata": {},
   "outputs": [],
   "source": [
    "df['x_res']=df['x_res'].str.replace(',','').str.findall(r'(\\d+\\.?\\d+)').apply(lambda x : x[0])"
   ]
  },
  {
   "cell_type": "code",
   "execution_count": 124,
   "id": "5c96c87e",
   "metadata": {},
   "outputs": [
    {
     "data": {
      "text/html": [
       "<div>\n",
       "<style scoped>\n",
       "    .dataframe tbody tr th:only-of-type {\n",
       "        vertical-align: middle;\n",
       "    }\n",
       "\n",
       "    .dataframe tbody tr th {\n",
       "        vertical-align: top;\n",
       "    }\n",
       "\n",
       "    .dataframe thead th {\n",
       "        text-align: right;\n",
       "    }\n",
       "</style>\n",
       "<table border=\"1\" class=\"dataframe\">\n",
       "  <thead>\n",
       "    <tr style=\"text-align: right;\">\n",
       "      <th></th>\n",
       "      <th>Company</th>\n",
       "      <th>TypeName</th>\n",
       "      <th>Inches</th>\n",
       "      <th>ScreenResolution</th>\n",
       "      <th>Cpu</th>\n",
       "      <th>Ram</th>\n",
       "      <th>Memory</th>\n",
       "      <th>Gpu</th>\n",
       "      <th>OpSys</th>\n",
       "      <th>Weight</th>\n",
       "      <th>Price</th>\n",
       "      <th>Touchscreen</th>\n",
       "      <th>Ips</th>\n",
       "      <th>x_res</th>\n",
       "      <th>y_res</th>\n",
       "    </tr>\n",
       "  </thead>\n",
       "  <tbody>\n",
       "    <tr>\n",
       "      <th>215</th>\n",
       "      <td>Dell</td>\n",
       "      <td>Ultrabook</td>\n",
       "      <td>13.3</td>\n",
       "      <td>IPS Panel Full HD 1920x1080</td>\n",
       "      <td>Intel Core i7 8550U 1.8GHz</td>\n",
       "      <td>8</td>\n",
       "      <td>256GB SSD</td>\n",
       "      <td>AMD Radeon 530</td>\n",
       "      <td>Windows 10</td>\n",
       "      <td>1.40</td>\n",
       "      <td>49650.5664</td>\n",
       "      <td>0</td>\n",
       "      <td>1</td>\n",
       "      <td>1920</td>\n",
       "      <td>1080</td>\n",
       "    </tr>\n",
       "    <tr>\n",
       "      <th>476</th>\n",
       "      <td>Dell</td>\n",
       "      <td>Workstation</td>\n",
       "      <td>15.6</td>\n",
       "      <td>Full HD 1920x1080</td>\n",
       "      <td>Intel Core i7 7700HQ 2.8GHz</td>\n",
       "      <td>8</td>\n",
       "      <td>256GB SSD</td>\n",
       "      <td>Nvidia Quadro M1200</td>\n",
       "      <td>Windows 10</td>\n",
       "      <td>1.78</td>\n",
       "      <td>128298.2400</td>\n",
       "      <td>0</td>\n",
       "      <td>0</td>\n",
       "      <td>1920</td>\n",
       "      <td>1080</td>\n",
       "    </tr>\n",
       "    <tr>\n",
       "      <th>284</th>\n",
       "      <td>Acer</td>\n",
       "      <td>Notebook</td>\n",
       "      <td>15.6</td>\n",
       "      <td>IPS Panel Full HD 1920x1080</td>\n",
       "      <td>Intel Core i7 8550U 1.8GHz</td>\n",
       "      <td>8</td>\n",
       "      <td>256GB SSD</td>\n",
       "      <td>Nvidia GeForce MX150</td>\n",
       "      <td>Windows 10</td>\n",
       "      <td>3.00</td>\n",
       "      <td>50669.2800</td>\n",
       "      <td>0</td>\n",
       "      <td>1</td>\n",
       "      <td>1920</td>\n",
       "      <td>1080</td>\n",
       "    </tr>\n",
       "    <tr>\n",
       "      <th>477</th>\n",
       "      <td>Lenovo</td>\n",
       "      <td>Notebook</td>\n",
       "      <td>14.0</td>\n",
       "      <td>Full HD 1920x1080</td>\n",
       "      <td>Intel Core i5 7200U 2.5GHz</td>\n",
       "      <td>8</td>\n",
       "      <td>180GB SSD</td>\n",
       "      <td>Intel HD Graphics 620</td>\n",
       "      <td>Windows 10</td>\n",
       "      <td>1.70</td>\n",
       "      <td>72673.9200</td>\n",
       "      <td>0</td>\n",
       "      <td>0</td>\n",
       "      <td>1920</td>\n",
       "      <td>1080</td>\n",
       "    </tr>\n",
       "    <tr>\n",
       "      <th>1260</th>\n",
       "      <td>Lenovo</td>\n",
       "      <td>2 in 1 Convertible</td>\n",
       "      <td>14.0</td>\n",
       "      <td>Full HD / Touchscreen 1920x1080</td>\n",
       "      <td>Intel Core i5 6200U 2.3GHz</td>\n",
       "      <td>4</td>\n",
       "      <td>128GB SSD</td>\n",
       "      <td>Intel HD Graphics 520</td>\n",
       "      <td>Windows 10</td>\n",
       "      <td>1.80</td>\n",
       "      <td>44382.7728</td>\n",
       "      <td>1</td>\n",
       "      <td>0</td>\n",
       "      <td>1920</td>\n",
       "      <td>1080</td>\n",
       "    </tr>\n",
       "  </tbody>\n",
       "</table>\n",
       "</div>"
      ],
      "text/plain": [
       "     Company            TypeName  Inches                 ScreenResolution  \\\n",
       "215     Dell           Ultrabook    13.3      IPS Panel Full HD 1920x1080   \n",
       "476     Dell         Workstation    15.6                Full HD 1920x1080   \n",
       "284     Acer            Notebook    15.6      IPS Panel Full HD 1920x1080   \n",
       "477   Lenovo            Notebook    14.0                Full HD 1920x1080   \n",
       "1260  Lenovo  2 in 1 Convertible    14.0  Full HD / Touchscreen 1920x1080   \n",
       "\n",
       "                              Cpu  Ram     Memory                    Gpu  \\\n",
       "215    Intel Core i7 8550U 1.8GHz    8  256GB SSD         AMD Radeon 530   \n",
       "476   Intel Core i7 7700HQ 2.8GHz    8  256GB SSD    Nvidia Quadro M1200   \n",
       "284    Intel Core i7 8550U 1.8GHz    8  256GB SSD   Nvidia GeForce MX150   \n",
       "477    Intel Core i5 7200U 2.5GHz    8  180GB SSD  Intel HD Graphics 620   \n",
       "1260   Intel Core i5 6200U 2.3GHz    4  128GB SSD  Intel HD Graphics 520   \n",
       "\n",
       "           OpSys  Weight        Price  Touchscreen  Ips x_res y_res  \n",
       "215   Windows 10    1.40   49650.5664            0    1  1920  1080  \n",
       "476   Windows 10    1.78  128298.2400            0    0  1920  1080  \n",
       "284   Windows 10    3.00   50669.2800            0    1  1920  1080  \n",
       "477   Windows 10    1.70   72673.9200            0    0  1920  1080  \n",
       "1260  Windows 10    1.80   44382.7728            1    0  1920  1080  "
      ]
     },
     "execution_count": 124,
     "metadata": {},
     "output_type": "execute_result"
    }
   ],
   "source": [
    "df.sample(5)"
   ]
  },
  {
   "cell_type": "code",
   "execution_count": 125,
   "id": "7e1e647e",
   "metadata": {},
   "outputs": [
    {
     "data": {
      "text/plain": [
       "Company              object\n",
       "TypeName             object\n",
       "Inches              float64\n",
       "ScreenResolution     object\n",
       "Cpu                  object\n",
       "Ram                   int32\n",
       "Memory               object\n",
       "Gpu                  object\n",
       "OpSys                object\n",
       "Weight              float32\n",
       "Price               float64\n",
       "Touchscreen           int64\n",
       "Ips                   int64\n",
       "x_res                object\n",
       "y_res                object\n",
       "dtype: object"
      ]
     },
     "execution_count": 125,
     "metadata": {},
     "output_type": "execute_result"
    }
   ],
   "source": [
    "df.dtypes"
   ]
  },
  {
   "cell_type": "code",
   "execution_count": 126,
   "id": "6d4e5031",
   "metadata": {},
   "outputs": [],
   "source": [
    "df['x_res'] = df['x_res'].astype('int')\n",
    "df['y_res'] = df['y_res'].astype('int')"
   ]
  },
  {
   "cell_type": "markdown",
   "id": "7231eb0b",
   "metadata": {},
   "source": [
    "##### c) why i create x_res and y_res"
   ]
  },
  {
   "cell_type": "code",
   "execution_count": 127,
   "id": "42f96784",
   "metadata": {},
   "outputs": [
    {
     "data": {
      "text/html": [
       "<div>\n",
       "<style scoped>\n",
       "    .dataframe tbody tr th:only-of-type {\n",
       "        vertical-align: middle;\n",
       "    }\n",
       "\n",
       "    .dataframe tbody tr th {\n",
       "        vertical-align: top;\n",
       "    }\n",
       "\n",
       "    .dataframe thead th {\n",
       "        text-align: right;\n",
       "    }\n",
       "</style>\n",
       "<table border=\"1\" class=\"dataframe\">\n",
       "  <thead>\n",
       "    <tr style=\"text-align: right;\">\n",
       "      <th></th>\n",
       "      <th>Inches</th>\n",
       "      <th>Ram</th>\n",
       "      <th>Weight</th>\n",
       "      <th>Price</th>\n",
       "      <th>Touchscreen</th>\n",
       "      <th>Ips</th>\n",
       "      <th>x_res</th>\n",
       "      <th>y_res</th>\n",
       "    </tr>\n",
       "  </thead>\n",
       "  <tbody>\n",
       "    <tr>\n",
       "      <th>Inches</th>\n",
       "      <td>1.000000</td>\n",
       "      <td>0.241441</td>\n",
       "      <td>0.826634</td>\n",
       "      <td>0.066990</td>\n",
       "      <td>-0.361873</td>\n",
       "      <td>-0.109942</td>\n",
       "      <td>-0.067916</td>\n",
       "      <td>-0.092768</td>\n",
       "    </tr>\n",
       "    <tr>\n",
       "      <th>Ram</th>\n",
       "      <td>0.241441</td>\n",
       "      <td>1.000000</td>\n",
       "      <td>0.389658</td>\n",
       "      <td>0.740106</td>\n",
       "      <td>0.111378</td>\n",
       "      <td>0.201446</td>\n",
       "      <td>0.423669</td>\n",
       "      <td>0.414816</td>\n",
       "    </tr>\n",
       "    <tr>\n",
       "      <th>Weight</th>\n",
       "      <td>0.826634</td>\n",
       "      <td>0.389658</td>\n",
       "      <td>1.000000</td>\n",
       "      <td>0.212192</td>\n",
       "      <td>-0.293933</td>\n",
       "      <td>0.022250</td>\n",
       "      <td>-0.028416</td>\n",
       "      <td>-0.049928</td>\n",
       "    </tr>\n",
       "    <tr>\n",
       "      <th>Price</th>\n",
       "      <td>0.066990</td>\n",
       "      <td>0.740106</td>\n",
       "      <td>0.212192</td>\n",
       "      <td>1.000000</td>\n",
       "      <td>0.188631</td>\n",
       "      <td>0.250358</td>\n",
       "      <td>0.552074</td>\n",
       "      <td>0.548111</td>\n",
       "    </tr>\n",
       "    <tr>\n",
       "      <th>Touchscreen</th>\n",
       "      <td>-0.361873</td>\n",
       "      <td>0.111378</td>\n",
       "      <td>-0.293933</td>\n",
       "      <td>0.188631</td>\n",
       "      <td>1.000000</td>\n",
       "      <td>0.139550</td>\n",
       "      <td>0.343077</td>\n",
       "      <td>0.350326</td>\n",
       "    </tr>\n",
       "    <tr>\n",
       "      <th>Ips</th>\n",
       "      <td>-0.109942</td>\n",
       "      <td>0.201446</td>\n",
       "      <td>0.022250</td>\n",
       "      <td>0.250358</td>\n",
       "      <td>0.139550</td>\n",
       "      <td>1.000000</td>\n",
       "      <td>0.271637</td>\n",
       "      <td>0.279652</td>\n",
       "    </tr>\n",
       "    <tr>\n",
       "      <th>x_res</th>\n",
       "      <td>-0.067916</td>\n",
       "      <td>0.423669</td>\n",
       "      <td>-0.028416</td>\n",
       "      <td>0.552074</td>\n",
       "      <td>0.343077</td>\n",
       "      <td>0.271637</td>\n",
       "      <td>1.000000</td>\n",
       "      <td>0.994064</td>\n",
       "    </tr>\n",
       "    <tr>\n",
       "      <th>y_res</th>\n",
       "      <td>-0.092768</td>\n",
       "      <td>0.414816</td>\n",
       "      <td>-0.049928</td>\n",
       "      <td>0.548111</td>\n",
       "      <td>0.350326</td>\n",
       "      <td>0.279652</td>\n",
       "      <td>0.994064</td>\n",
       "      <td>1.000000</td>\n",
       "    </tr>\n",
       "  </tbody>\n",
       "</table>\n",
       "</div>"
      ],
      "text/plain": [
       "               Inches       Ram    Weight     Price  Touchscreen       Ips  \\\n",
       "Inches       1.000000  0.241441  0.826634  0.066990    -0.361873 -0.109942   \n",
       "Ram          0.241441  1.000000  0.389658  0.740106     0.111378  0.201446   \n",
       "Weight       0.826634  0.389658  1.000000  0.212192    -0.293933  0.022250   \n",
       "Price        0.066990  0.740106  0.212192  1.000000     0.188631  0.250358   \n",
       "Touchscreen -0.361873  0.111378 -0.293933  0.188631     1.000000  0.139550   \n",
       "Ips         -0.109942  0.201446  0.022250  0.250358     0.139550  1.000000   \n",
       "x_res       -0.067916  0.423669 -0.028416  0.552074     0.343077  0.271637   \n",
       "y_res       -0.092768  0.414816 -0.049928  0.548111     0.350326  0.279652   \n",
       "\n",
       "                x_res     y_res  \n",
       "Inches      -0.067916 -0.092768  \n",
       "Ram          0.423669  0.414816  \n",
       "Weight      -0.028416 -0.049928  \n",
       "Price        0.552074  0.548111  \n",
       "Touchscreen  0.343077  0.350326  \n",
       "Ips          0.271637  0.279652  \n",
       "x_res        1.000000  0.994064  \n",
       "y_res        0.994064  1.000000  "
      ]
     },
     "execution_count": 127,
     "metadata": {},
     "output_type": "execute_result"
    }
   ],
   "source": [
    "df.corr()"
   ]
  },
  {
   "cell_type": "code",
   "execution_count": 128,
   "id": "e38e5f51",
   "metadata": {},
   "outputs": [
    {
     "data": {
      "text/plain": [
       "Inches         0.066990\n",
       "Ram            0.740106\n",
       "Weight         0.212192\n",
       "Price          1.000000\n",
       "Touchscreen    0.188631\n",
       "Ips            0.250358\n",
       "x_res          0.552074\n",
       "y_res          0.548111\n",
       "Name: Price, dtype: float64"
      ]
     },
     "execution_count": 128,
     "metadata": {},
     "output_type": "execute_result"
    }
   ],
   "source": [
    "df.corr()['Price']                                            #corr w.r.t. Price\n",
    "\n",
    "#1. here i can see corr with x_res and y_res is very high\n",
    "#2. corr between price and inches is very less"
   ]
  },
  {
   "cell_type": "markdown",
   "id": "66f0fda4",
   "metadata": {},
   "source": [
    "#### 4.2 Creating new column df['ppi']"
   ]
  },
  {
   "cell_type": "code",
   "execution_count": 129,
   "id": "6711c422",
   "metadata": {},
   "outputs": [],
   "source": [
    "#1. note : x_res and y_res have multicollinearity (see corr. b/w these) and inches have less corr with price.\n",
    "#       so, we are going to make a new column ppi (pixcel per inches)\n",
    "#2. generally, if ppi is more then price is also more\n",
    "#3. ppi = ( sqrt[ (x_res)^2 + (y_res)^2 ] ) / (inches)"
   ]
  },
  {
   "cell_type": "code",
   "execution_count": 130,
   "id": "68496c95",
   "metadata": {},
   "outputs": [],
   "source": [
    "df['ppi'] = ( ((df['x_res']**2) + (df['y_res']**2))**0.5 ) / df['Inches']"
   ]
  },
  {
   "cell_type": "code",
   "execution_count": 131,
   "id": "83e9d958",
   "metadata": {},
   "outputs": [
    {
     "data": {
      "text/plain": [
       "dtype('float64')"
      ]
     },
     "execution_count": 131,
     "metadata": {},
     "output_type": "execute_result"
    }
   ],
   "source": [
    "df['ppi'].dtypes                                              #good practice to check dtypes of new column"
   ]
  },
  {
   "cell_type": "code",
   "execution_count": 132,
   "id": "a64dfd95",
   "metadata": {},
   "outputs": [
    {
     "data": {
      "text/plain": [
       "Inches         0.066990\n",
       "Ram            0.740106\n",
       "Weight         0.212192\n",
       "Price          1.000000\n",
       "Touchscreen    0.188631\n",
       "Ips            0.250358\n",
       "x_res          0.552074\n",
       "y_res          0.548111\n",
       "ppi            0.469539\n",
       "Name: Price, dtype: float64"
      ]
     },
     "execution_count": 132,
     "metadata": {},
     "output_type": "execute_result"
    }
   ],
   "source": [
    "df.corr()['Price']\n",
    "\n",
    "#1. price have good corr. with ppi"
   ]
  },
  {
   "cell_type": "code",
   "execution_count": 133,
   "id": "f0e6b6c5",
   "metadata": {},
   "outputs": [
    {
     "data": {
      "text/plain": [
       "Index(['Company', 'TypeName', 'Inches', 'Cpu', 'Ram', 'Memory', 'Gpu', 'OpSys',\n",
       "       'Weight', 'Price', 'Touchscreen', 'Ips', 'x_res', 'y_res', 'ppi'],\n",
       "      dtype='object')"
      ]
     },
     "execution_count": 133,
     "metadata": {},
     "output_type": "execute_result"
    }
   ],
   "source": [
    "#now i can remove column 'ScreenResolution'\n",
    "df.drop(columns=['ScreenResolution'],inplace=True)\n",
    "df.columns"
   ]
  },
  {
   "cell_type": "markdown",
   "id": "dec58af3",
   "metadata": {},
   "source": [
    "#### 4.3 feature engineering on df['Cpu']"
   ]
  },
  {
   "cell_type": "code",
   "execution_count": 134,
   "id": "8f6f9f66",
   "metadata": {},
   "outputs": [
    {
     "data": {
      "text/plain": [
       "Intel Core i5 7200U 2.5GHz     190\n",
       "Intel Core i7 7700HQ 2.8GHz    146\n",
       "Intel Core i7 7500U 2.7GHz     132\n",
       "Intel Core i7 8550U 1.8GHz      73\n",
       "Intel Core i5 8250U 1.6GHz      72\n",
       "                              ... \n",
       "Intel Core M M3-6Y30 0.9GHz      1\n",
       "AMD A9-Series 9420 2.9GHz        1\n",
       "Intel Core i5 2.9GHz             1\n",
       "AMD A6-Series 7310 2GHz          1\n",
       "AMD A9-Series 9410 2.9GHz        1\n",
       "Name: Cpu, Length: 118, dtype: int64"
      ]
     },
     "execution_count": 134,
     "metadata": {},
     "output_type": "execute_result"
    }
   ],
   "source": [
    "df['Cpu'].value_counts()\n",
    "\n",
    "#1. there are so many processors. most famous are i5,i7\n",
    "#2. we will create some category of processors like :\n",
    "#   intel core i5, intel core i7, intel core i3, intel pentium, intel celeron, AMD\n",
    "#3. for creating category, i will extract first three words"
   ]
  },
  {
   "cell_type": "code",
   "execution_count": 135,
   "id": "09723c3a",
   "metadata": {},
   "outputs": [
    {
     "data": {
      "text/plain": [
       "0                         [Intel, Core, i5, 2.3GHz]\n",
       "1                         [Intel, Core, i5, 1.8GHz]\n",
       "2                  [Intel, Core, i5, 7200U, 2.5GHz]\n",
       "3                         [Intel, Core, i7, 2.7GHz]\n",
       "4                         [Intel, Core, i5, 3.1GHz]\n",
       "                           ...                     \n",
       "1269               [Intel, Core, i7, 6500U, 2.5GHz]\n",
       "1270               [Intel, Core, i7, 6500U, 2.5GHz]\n",
       "1271               [Intel, Core, i7, 6500U, 2.5GHz]\n",
       "1272    [Intel, Celeron, Dual, Core, N3050, 1.6GHz]\n",
       "1273               [Intel, Core, i7, 6500U, 2.5GHz]\n",
       "Name: Cpu, Length: 1274, dtype: object"
      ]
     },
     "execution_count": 135,
     "metadata": {},
     "output_type": "execute_result"
    }
   ],
   "source": [
    "df['Cpu'].apply(lambda x : x.split())                          #it will split every word"
   ]
  },
  {
   "cell_type": "code",
   "execution_count": 136,
   "id": "cf75ee1e",
   "metadata": {},
   "outputs": [
    {
     "data": {
      "text/plain": [
       "dtype('O')"
      ]
     },
     "execution_count": 136,
     "metadata": {},
     "output_type": "execute_result"
    }
   ],
   "source": [
    "#now i have to move these values from list and i only want first three words\n",
    "\n",
    "df['cpu_name'] = df['Cpu'].apply(lambda x :\" \".join(x.split()[0:3]))                   \n",
    "df['cpu_name'].dtypes\n",
    "#1. \" \".join(x.split()[0:3]) #empty space + join three words"
   ]
  },
  {
   "cell_type": "code",
   "execution_count": 137,
   "id": "7df99367",
   "metadata": {},
   "outputs": [
    {
     "data": {
      "text/html": [
       "<div>\n",
       "<style scoped>\n",
       "    .dataframe tbody tr th:only-of-type {\n",
       "        vertical-align: middle;\n",
       "    }\n",
       "\n",
       "    .dataframe tbody tr th {\n",
       "        vertical-align: top;\n",
       "    }\n",
       "\n",
       "    .dataframe thead th {\n",
       "        text-align: right;\n",
       "    }\n",
       "</style>\n",
       "<table border=\"1\" class=\"dataframe\">\n",
       "  <thead>\n",
       "    <tr style=\"text-align: right;\">\n",
       "      <th></th>\n",
       "      <th>Company</th>\n",
       "      <th>TypeName</th>\n",
       "      <th>Inches</th>\n",
       "      <th>Cpu</th>\n",
       "      <th>Ram</th>\n",
       "      <th>Memory</th>\n",
       "      <th>Gpu</th>\n",
       "      <th>OpSys</th>\n",
       "      <th>Weight</th>\n",
       "      <th>Price</th>\n",
       "      <th>Touchscreen</th>\n",
       "      <th>Ips</th>\n",
       "      <th>x_res</th>\n",
       "      <th>y_res</th>\n",
       "      <th>ppi</th>\n",
       "      <th>cpu_name</th>\n",
       "    </tr>\n",
       "  </thead>\n",
       "  <tbody>\n",
       "    <tr>\n",
       "      <th>708</th>\n",
       "      <td>Lenovo</td>\n",
       "      <td>Notebook</td>\n",
       "      <td>14.0</td>\n",
       "      <td>Intel Core i5 6300HQ 2.3GHz</td>\n",
       "      <td>8</td>\n",
       "      <td>256GB SSD</td>\n",
       "      <td>Intel HD Graphics 520</td>\n",
       "      <td>Windows 10</td>\n",
       "      <td>1.80</td>\n",
       "      <td>63456.48</td>\n",
       "      <td>0</td>\n",
       "      <td>0</td>\n",
       "      <td>1920</td>\n",
       "      <td>1080</td>\n",
       "      <td>157.350512</td>\n",
       "      <td>Intel Core i5</td>\n",
       "    </tr>\n",
       "    <tr>\n",
       "      <th>584</th>\n",
       "      <td>Dell</td>\n",
       "      <td>Netbook</td>\n",
       "      <td>11.6</td>\n",
       "      <td>Intel Celeron Dual Core N3060 1.6GHz</td>\n",
       "      <td>4</td>\n",
       "      <td>16GB Flash Storage</td>\n",
       "      <td>Intel HD Graphics 400</td>\n",
       "      <td>Chrome OS</td>\n",
       "      <td>1.26</td>\n",
       "      <td>15717.60</td>\n",
       "      <td>0</td>\n",
       "      <td>0</td>\n",
       "      <td>1366</td>\n",
       "      <td>768</td>\n",
       "      <td>135.094211</td>\n",
       "      <td>Intel Celeron Dual</td>\n",
       "    </tr>\n",
       "    <tr>\n",
       "      <th>869</th>\n",
       "      <td>Dell</td>\n",
       "      <td>Workstation</td>\n",
       "      <td>15.6</td>\n",
       "      <td>Intel Core i7 7700HQ 2.8GHz</td>\n",
       "      <td>8</td>\n",
       "      <td>1TB HDD</td>\n",
       "      <td>Nvidia Quadro M620</td>\n",
       "      <td>Windows 10</td>\n",
       "      <td>2.23</td>\n",
       "      <td>94731.84</td>\n",
       "      <td>0</td>\n",
       "      <td>0</td>\n",
       "      <td>1920</td>\n",
       "      <td>1080</td>\n",
       "      <td>141.211998</td>\n",
       "      <td>Intel Core i7</td>\n",
       "    </tr>\n",
       "    <tr>\n",
       "      <th>1150</th>\n",
       "      <td>Lenovo</td>\n",
       "      <td>Notebook</td>\n",
       "      <td>15.6</td>\n",
       "      <td>Intel Core i3 6006U 2.0GHz</td>\n",
       "      <td>4</td>\n",
       "      <td>1TB HDD</td>\n",
       "      <td>Intel HD Graphics 520</td>\n",
       "      <td>No OS</td>\n",
       "      <td>1.90</td>\n",
       "      <td>18061.92</td>\n",
       "      <td>0</td>\n",
       "      <td>0</td>\n",
       "      <td>1366</td>\n",
       "      <td>768</td>\n",
       "      <td>100.454670</td>\n",
       "      <td>Intel Core i3</td>\n",
       "    </tr>\n",
       "    <tr>\n",
       "      <th>494</th>\n",
       "      <td>Asus</td>\n",
       "      <td>Gaming</td>\n",
       "      <td>17.3</td>\n",
       "      <td>Intel Core i7 6700HQ 2.6GHz</td>\n",
       "      <td>24</td>\n",
       "      <td>256GB SSD +  1TB HDD</td>\n",
       "      <td>Nvidia GeForce GTX 965M</td>\n",
       "      <td>Windows 10</td>\n",
       "      <td>4.33</td>\n",
       "      <td>67612.32</td>\n",
       "      <td>1</td>\n",
       "      <td>1</td>\n",
       "      <td>1920</td>\n",
       "      <td>1080</td>\n",
       "      <td>127.335675</td>\n",
       "      <td>Intel Core i7</td>\n",
       "    </tr>\n",
       "  </tbody>\n",
       "</table>\n",
       "</div>"
      ],
      "text/plain": [
       "     Company     TypeName  Inches                                   Cpu  Ram  \\\n",
       "708   Lenovo     Notebook    14.0           Intel Core i5 6300HQ 2.3GHz    8   \n",
       "584     Dell      Netbook    11.6  Intel Celeron Dual Core N3060 1.6GHz    4   \n",
       "869     Dell  Workstation    15.6           Intel Core i7 7700HQ 2.8GHz    8   \n",
       "1150  Lenovo     Notebook    15.6            Intel Core i3 6006U 2.0GHz    4   \n",
       "494     Asus       Gaming    17.3           Intel Core i7 6700HQ 2.6GHz   24   \n",
       "\n",
       "                    Memory                      Gpu       OpSys  Weight  \\\n",
       "708              256GB SSD    Intel HD Graphics 520  Windows 10    1.80   \n",
       "584     16GB Flash Storage    Intel HD Graphics 400   Chrome OS    1.26   \n",
       "869                1TB HDD       Nvidia Quadro M620  Windows 10    2.23   \n",
       "1150               1TB HDD    Intel HD Graphics 520       No OS    1.90   \n",
       "494   256GB SSD +  1TB HDD  Nvidia GeForce GTX 965M  Windows 10    4.33   \n",
       "\n",
       "         Price  Touchscreen  Ips  x_res  y_res         ppi            cpu_name  \n",
       "708   63456.48            0    0   1920   1080  157.350512       Intel Core i5  \n",
       "584   15717.60            0    0   1366    768  135.094211  Intel Celeron Dual  \n",
       "869   94731.84            0    0   1920   1080  141.211998       Intel Core i7  \n",
       "1150  18061.92            0    0   1366    768  100.454670       Intel Core i3  \n",
       "494   67612.32            1    1   1920   1080  127.335675       Intel Core i7  "
      ]
     },
     "execution_count": 137,
     "metadata": {},
     "output_type": "execute_result"
    }
   ],
   "source": [
    "df.sample(5)"
   ]
  },
  {
   "cell_type": "code",
   "execution_count": 138,
   "id": "ee25d553",
   "metadata": {},
   "outputs": [
    {
     "data": {
      "text/html": [
       "<div>\n",
       "<style scoped>\n",
       "    .dataframe tbody tr th:only-of-type {\n",
       "        vertical-align: middle;\n",
       "    }\n",
       "\n",
       "    .dataframe tbody tr th {\n",
       "        vertical-align: top;\n",
       "    }\n",
       "\n",
       "    .dataframe thead th {\n",
       "        text-align: right;\n",
       "    }\n",
       "</style>\n",
       "<table border=\"1\" class=\"dataframe\">\n",
       "  <thead>\n",
       "    <tr style=\"text-align: right;\">\n",
       "      <th></th>\n",
       "      <th>Company</th>\n",
       "      <th>TypeName</th>\n",
       "      <th>Inches</th>\n",
       "      <th>Cpu</th>\n",
       "      <th>Ram</th>\n",
       "      <th>Memory</th>\n",
       "      <th>Gpu</th>\n",
       "      <th>OpSys</th>\n",
       "      <th>Weight</th>\n",
       "      <th>Price</th>\n",
       "      <th>Touchscreen</th>\n",
       "      <th>Ips</th>\n",
       "      <th>x_res</th>\n",
       "      <th>y_res</th>\n",
       "      <th>ppi</th>\n",
       "      <th>cpu_name</th>\n",
       "    </tr>\n",
       "  </thead>\n",
       "  <tbody>\n",
       "    <tr>\n",
       "      <th>6</th>\n",
       "      <td>Apple</td>\n",
       "      <td>Ultrabook</td>\n",
       "      <td>15.4</td>\n",
       "      <td>Intel Core i7 2.2GHz</td>\n",
       "      <td>16</td>\n",
       "      <td>256GB Flash Storage</td>\n",
       "      <td>Intel Iris Pro Graphics</td>\n",
       "      <td>Mac OS X</td>\n",
       "      <td>2.04</td>\n",
       "      <td>114017.6016</td>\n",
       "      <td>0</td>\n",
       "      <td>1</td>\n",
       "      <td>2880</td>\n",
       "      <td>1800</td>\n",
       "      <td>220.534624</td>\n",
       "      <td>Intel Core i7</td>\n",
       "    </tr>\n",
       "    <tr>\n",
       "      <th>1193</th>\n",
       "      <td>Apple</td>\n",
       "      <td>Ultrabook</td>\n",
       "      <td>12.0</td>\n",
       "      <td>Intel Core M 1.1GHz</td>\n",
       "      <td>8</td>\n",
       "      <td>256GB Flash Storage</td>\n",
       "      <td>Intel HD Graphics 5300</td>\n",
       "      <td>Mac OS X</td>\n",
       "      <td>0.92</td>\n",
       "      <td>61964.6400</td>\n",
       "      <td>0</td>\n",
       "      <td>1</td>\n",
       "      <td>2304</td>\n",
       "      <td>1440</td>\n",
       "      <td>226.415547</td>\n",
       "      <td>Intel Core M</td>\n",
       "    </tr>\n",
       "  </tbody>\n",
       "</table>\n",
       "</div>"
      ],
      "text/plain": [
       "     Company   TypeName  Inches                   Cpu  Ram  \\\n",
       "6      Apple  Ultrabook    15.4  Intel Core i7 2.2GHz   16   \n",
       "1193   Apple  Ultrabook    12.0   Intel Core M 1.1GHz    8   \n",
       "\n",
       "                   Memory                      Gpu     OpSys  Weight  \\\n",
       "6     256GB Flash Storage  Intel Iris Pro Graphics  Mac OS X    2.04   \n",
       "1193  256GB Flash Storage   Intel HD Graphics 5300  Mac OS X    0.92   \n",
       "\n",
       "            Price  Touchscreen  Ips  x_res  y_res         ppi       cpu_name  \n",
       "6     114017.6016            0    1   2880   1800  220.534624  Intel Core i7  \n",
       "1193   61964.6400            0    1   2304   1440  226.415547   Intel Core M  "
      ]
     },
     "execution_count": 138,
     "metadata": {},
     "output_type": "execute_result"
    }
   ],
   "source": [
    "df[df['Company']=='Apple'].sample(2)\n",
    "\n",
    "#note : macOS also have intel processor. don't confuse that they have their own category of processor\n",
    "#       but have new one as 'Intel Core M'"
   ]
  },
  {
   "cell_type": "code",
   "execution_count": 139,
   "id": "0717bdb0",
   "metadata": {},
   "outputs": [],
   "source": [
    "#fn for extracting more precise categories of preocessor\n",
    "\n",
    "def fetch_processor(text):\n",
    "    if text == 'Intel Core i7' or text == 'Intel Core i5' or text == 'Intel Core i3' or text == 'Intel Core M':\n",
    "        return text\n",
    "    else:\n",
    "        if text.split()[0] == 'Intel':\n",
    "            return 'Other Intel Processor'\n",
    "        else:\n",
    "            return 'AMD Processor'"
   ]
  },
  {
   "cell_type": "code",
   "execution_count": 140,
   "id": "77c09a78",
   "metadata": {},
   "outputs": [
    {
     "data": {
      "text/plain": [
       "Intel Core i7            515\n",
       "Intel Core i5            423\n",
       "Intel Core i3            134\n",
       "Other Intel Processor    124\n",
       "AMD Processor             61\n",
       "Intel Core M              17\n",
       "Name: cpu_brand, dtype: int64"
      ]
     },
     "execution_count": 140,
     "metadata": {},
     "output_type": "execute_result"
    }
   ],
   "source": [
    "df['cpu_brand'] = df['cpu_name'].apply(fetch_processor)\n",
    "df['cpu_brand'].value_counts()"
   ]
  },
  {
   "cell_type": "code",
   "execution_count": 141,
   "id": "beeae26d",
   "metadata": {},
   "outputs": [
    {
     "data": {
      "text/plain": [
       "Index(['Company', 'TypeName', 'Inches', 'Ram', 'Memory', 'Gpu', 'OpSys',\n",
       "       'Weight', 'Price', 'Touchscreen', 'Ips', 'x_res', 'y_res', 'ppi',\n",
       "       'cpu_brand'],\n",
       "      dtype='object')"
      ]
     },
     "execution_count": 141,
     "metadata": {},
     "output_type": "execute_result"
    }
   ],
   "source": [
    "#now i can drop columns Cpu,cpu_name\n",
    "df.drop(columns=['Cpu','cpu_name'],inplace=True)\n",
    "df.columns"
   ]
  },
  {
   "cell_type": "markdown",
   "id": "5b83d653",
   "metadata": {},
   "source": [
    "#### 4.4 feature engineering on df['Memory']"
   ]
  },
  {
   "cell_type": "code",
   "execution_count": 142,
   "id": "b4c86060",
   "metadata": {},
   "outputs": [
    {
     "data": {
      "text/plain": [
       "256GB SSD                        412\n",
       "1TB HDD                          215\n",
       "500GB HDD                        123\n",
       "512GB SSD                        114\n",
       "128GB SSD +  1TB HDD              94\n",
       "128GB SSD                         74\n",
       "256GB SSD +  1TB HDD              73\n",
       "32GB Flash Storage                36\n",
       "2TB HDD                           16\n",
       "512GB SSD +  1TB HDD              14\n",
       "1TB SSD                           14\n",
       "64GB Flash Storage                13\n",
       "256GB SSD +  2TB HDD              10\n",
       "256GB Flash Storage                8\n",
       "16GB Flash Storage                 7\n",
       "1.0TB Hybrid                       7\n",
       "32GB SSD                           6\n",
       "180GB SSD                          5\n",
       "128GB Flash Storage                4\n",
       "512GB SSD +  2TB HDD               3\n",
       "16GB SSD                           3\n",
       "512GB Flash Storage                2\n",
       "1TB SSD +  1TB HDD                 2\n",
       "256GB SSD +  500GB HDD             2\n",
       "128GB SSD +  2TB HDD               2\n",
       "256GB SSD +  256GB SSD             2\n",
       "512GB SSD +  256GB SSD             1\n",
       "512GB SSD +  512GB SSD             1\n",
       "64GB Flash Storage +  1TB HDD      1\n",
       "1TB HDD +  1TB HDD                 1\n",
       "32GB HDD                           1\n",
       "64GB SSD                           1\n",
       "128GB HDD                          1\n",
       "240GB SSD                          1\n",
       "8GB SSD                            1\n",
       "508GB Hybrid                       1\n",
       "1.0TB HDD                          1\n",
       "512GB SSD +  1.0TB Hybrid          1\n",
       "256GB SSD +  1.0TB Hybrid          1\n",
       "Name: Memory, dtype: int64"
      ]
     },
     "execution_count": 142,
     "metadata": {},
     "output_type": "execute_result"
    }
   ],
   "source": [
    "df['Memory'].value_counts()\n",
    "\n",
    "#1. i will create 4 columns from this column\n",
    "#2. columns : hdd, ssd, flash storage, hybrid"
   ]
  },
  {
   "cell_type": "code",
   "execution_count": 143,
   "id": "b383a9f3",
   "metadata": {},
   "outputs": [],
   "source": [
    "df['Memory'] = df['Memory'].astype(str).replace('\\.0', '', regex=True)\n",
    "df[\"Memory\"] = df[\"Memory\"].str.replace('GB', '')\n",
    "df[\"Memory\"] = df[\"Memory\"].str.replace('TB', '000')\n",
    "new = df[\"Memory\"].str.split(\"+\", n = 1, expand = True)\n",
    "\n",
    "df[\"first\"]= new[0]\n",
    "df[\"first\"]=df[\"first\"].str.strip()\n",
    "\n",
    "df[\"second\"]= new[1]\n",
    "\n",
    "df[\"Layer1HDD\"] = df[\"first\"].apply(lambda x: 1 if \"HDD\" in x else 0)\n",
    "df[\"Layer1SSD\"] = df[\"first\"].apply(lambda x: 1 if \"SSD\" in x else 0)\n",
    "df[\"Layer1Hybrid\"] = df[\"first\"].apply(lambda x: 1 if \"Hybrid\" in x else 0)\n",
    "df[\"Layer1Flash_Storage\"] = df[\"first\"].apply(lambda x: 1 if \"Flash Storage\" in x else 0)\n",
    "\n",
    "df['first'] = df['first'].str.replace(r'\\D', '')\n",
    "\n",
    "df[\"second\"].fillna(\"0\", inplace = True)\n",
    "\n",
    "df[\"Layer2HDD\"] = df[\"second\"].apply(lambda x: 1 if \"HDD\" in x else 0)\n",
    "df[\"Layer2SSD\"] = df[\"second\"].apply(lambda x: 1 if \"SSD\" in x else 0)\n",
    "df[\"Layer2Hybrid\"] = df[\"second\"].apply(lambda x: 1 if \"Hybrid\" in x else 0)\n",
    "df[\"Layer2Flash_Storage\"] = df[\"second\"].apply(lambda x: 1 if \"Flash Storage\" in x else 0)\n",
    "\n",
    "df['second'] = df['second'].str.replace(r'\\D', '')\n",
    "\n",
    "df[\"first\"] = df[\"first\"].astype(int)\n",
    "df[\"second\"] = df[\"second\"].astype(int)\n",
    "\n",
    "df[\"HDD\"]=(df[\"first\"]*df[\"Layer1HDD\"]+df[\"second\"]*df[\"Layer2HDD\"])\n",
    "df[\"SSD\"]=(df[\"first\"]*df[\"Layer1SSD\"]+df[\"second\"]*df[\"Layer2SSD\"])\n",
    "df[\"Hybrid\"]=(df[\"first\"]*df[\"Layer1Hybrid\"]+df[\"second\"]*df[\"Layer2Hybrid\"])\n",
    "df[\"Flash_Storage\"]=(df[\"first\"]*df[\"Layer1Flash_Storage\"]+df[\"second\"]*df[\"Layer2Flash_Storage\"])\n",
    "\n",
    "df.drop(columns=['first', 'second', 'Layer1HDD', 'Layer1SSD', 'Layer1Hybrid',\n",
    "       'Layer1Flash_Storage', 'Layer2HDD', 'Layer2SSD', 'Layer2Hybrid',\n",
    "       'Layer2Flash_Storage'],inplace=True)"
   ]
  },
  {
   "cell_type": "code",
   "execution_count": 144,
   "id": "8a838bb1",
   "metadata": {},
   "outputs": [
    {
     "data": {
      "text/html": [
       "<div>\n",
       "<style scoped>\n",
       "    .dataframe tbody tr th:only-of-type {\n",
       "        vertical-align: middle;\n",
       "    }\n",
       "\n",
       "    .dataframe tbody tr th {\n",
       "        vertical-align: top;\n",
       "    }\n",
       "\n",
       "    .dataframe thead th {\n",
       "        text-align: right;\n",
       "    }\n",
       "</style>\n",
       "<table border=\"1\" class=\"dataframe\">\n",
       "  <thead>\n",
       "    <tr style=\"text-align: right;\">\n",
       "      <th></th>\n",
       "      <th>Company</th>\n",
       "      <th>TypeName</th>\n",
       "      <th>Inches</th>\n",
       "      <th>Ram</th>\n",
       "      <th>Memory</th>\n",
       "      <th>Gpu</th>\n",
       "      <th>OpSys</th>\n",
       "      <th>Weight</th>\n",
       "      <th>Price</th>\n",
       "      <th>Touchscreen</th>\n",
       "      <th>Ips</th>\n",
       "      <th>x_res</th>\n",
       "      <th>y_res</th>\n",
       "      <th>ppi</th>\n",
       "      <th>cpu_brand</th>\n",
       "      <th>HDD</th>\n",
       "      <th>SSD</th>\n",
       "      <th>Hybrid</th>\n",
       "      <th>Flash_Storage</th>\n",
       "    </tr>\n",
       "  </thead>\n",
       "  <tbody>\n",
       "    <tr>\n",
       "      <th>430</th>\n",
       "      <td>Samsung</td>\n",
       "      <td>Netbook</td>\n",
       "      <td>11.6</td>\n",
       "      <td>4</td>\n",
       "      <td>16 Flash Storage</td>\n",
       "      <td>Intel HD Graphics 400</td>\n",
       "      <td>Chrome OS</td>\n",
       "      <td>1.15</td>\n",
       "      <td>14332.32</td>\n",
       "      <td>0</td>\n",
       "      <td>0</td>\n",
       "      <td>1366</td>\n",
       "      <td>768</td>\n",
       "      <td>135.094211</td>\n",
       "      <td>Other Intel Processor</td>\n",
       "      <td>0</td>\n",
       "      <td>0</td>\n",
       "      <td>0</td>\n",
       "      <td>16</td>\n",
       "    </tr>\n",
       "    <tr>\n",
       "      <th>1250</th>\n",
       "      <td>Dell</td>\n",
       "      <td>Notebook</td>\n",
       "      <td>15.6</td>\n",
       "      <td>4</td>\n",
       "      <td>500 HDD</td>\n",
       "      <td>Intel HD Graphics</td>\n",
       "      <td>Linux</td>\n",
       "      <td>2.20</td>\n",
       "      <td>17262.72</td>\n",
       "      <td>0</td>\n",
       "      <td>0</td>\n",
       "      <td>1366</td>\n",
       "      <td>768</td>\n",
       "      <td>100.454670</td>\n",
       "      <td>Other Intel Processor</td>\n",
       "      <td>500</td>\n",
       "      <td>0</td>\n",
       "      <td>0</td>\n",
       "      <td>0</td>\n",
       "    </tr>\n",
       "    <tr>\n",
       "      <th>1069</th>\n",
       "      <td>Apple</td>\n",
       "      <td>Ultrabook</td>\n",
       "      <td>12.0</td>\n",
       "      <td>8</td>\n",
       "      <td>256 Flash Storage</td>\n",
       "      <td>Intel HD Graphics 515</td>\n",
       "      <td>Mac OS X</td>\n",
       "      <td>0.92</td>\n",
       "      <td>69264.00</td>\n",
       "      <td>0</td>\n",
       "      <td>1</td>\n",
       "      <td>2304</td>\n",
       "      <td>1440</td>\n",
       "      <td>226.415547</td>\n",
       "      <td>Intel Core M</td>\n",
       "      <td>0</td>\n",
       "      <td>0</td>\n",
       "      <td>0</td>\n",
       "      <td>256</td>\n",
       "    </tr>\n",
       "    <tr>\n",
       "      <th>640</th>\n",
       "      <td>Lenovo</td>\n",
       "      <td>Gaming</td>\n",
       "      <td>15.6</td>\n",
       "      <td>8</td>\n",
       "      <td>128 SSD +  1000 HDD</td>\n",
       "      <td>Nvidia GeForce GTX 1050M</td>\n",
       "      <td>Windows 10</td>\n",
       "      <td>2.50</td>\n",
       "      <td>59087.52</td>\n",
       "      <td>0</td>\n",
       "      <td>1</td>\n",
       "      <td>1920</td>\n",
       "      <td>1080</td>\n",
       "      <td>141.211998</td>\n",
       "      <td>Intel Core i7</td>\n",
       "      <td>1000</td>\n",
       "      <td>128</td>\n",
       "      <td>0</td>\n",
       "      <td>0</td>\n",
       "    </tr>\n",
       "    <tr>\n",
       "      <th>1098</th>\n",
       "      <td>HP</td>\n",
       "      <td>Notebook</td>\n",
       "      <td>15.6</td>\n",
       "      <td>4</td>\n",
       "      <td>1000 HDD</td>\n",
       "      <td>Intel HD Graphics 405</td>\n",
       "      <td>Windows 10</td>\n",
       "      <td>1.96</td>\n",
       "      <td>26640.00</td>\n",
       "      <td>0</td>\n",
       "      <td>0</td>\n",
       "      <td>1366</td>\n",
       "      <td>768</td>\n",
       "      <td>100.454670</td>\n",
       "      <td>Other Intel Processor</td>\n",
       "      <td>1000</td>\n",
       "      <td>0</td>\n",
       "      <td>0</td>\n",
       "      <td>0</td>\n",
       "    </tr>\n",
       "  </tbody>\n",
       "</table>\n",
       "</div>"
      ],
      "text/plain": [
       "      Company   TypeName  Inches  Ram               Memory  \\\n",
       "430   Samsung    Netbook    11.6    4     16 Flash Storage   \n",
       "1250     Dell   Notebook    15.6    4              500 HDD   \n",
       "1069    Apple  Ultrabook    12.0    8    256 Flash Storage   \n",
       "640    Lenovo     Gaming    15.6    8  128 SSD +  1000 HDD   \n",
       "1098       HP   Notebook    15.6    4             1000 HDD   \n",
       "\n",
       "                           Gpu       OpSys  Weight     Price  Touchscreen  \\\n",
       "430      Intel HD Graphics 400   Chrome OS    1.15  14332.32            0   \n",
       "1250         Intel HD Graphics       Linux    2.20  17262.72            0   \n",
       "1069     Intel HD Graphics 515    Mac OS X    0.92  69264.00            0   \n",
       "640   Nvidia GeForce GTX 1050M  Windows 10    2.50  59087.52            0   \n",
       "1098     Intel HD Graphics 405  Windows 10    1.96  26640.00            0   \n",
       "\n",
       "      Ips  x_res  y_res         ppi              cpu_brand   HDD  SSD  Hybrid  \\\n",
       "430     0   1366    768  135.094211  Other Intel Processor     0    0       0   \n",
       "1250    0   1366    768  100.454670  Other Intel Processor   500    0       0   \n",
       "1069    1   2304   1440  226.415547           Intel Core M     0    0       0   \n",
       "640     1   1920   1080  141.211998          Intel Core i7  1000  128       0   \n",
       "1098    0   1366    768  100.454670  Other Intel Processor  1000    0       0   \n",
       "\n",
       "      Flash_Storage  \n",
       "430              16  \n",
       "1250              0  \n",
       "1069            256  \n",
       "640               0  \n",
       "1098              0  "
      ]
     },
     "execution_count": 144,
     "metadata": {},
     "output_type": "execute_result"
    }
   ],
   "source": [
    "df.sample(5)"
   ]
  },
  {
   "cell_type": "code",
   "execution_count": 145,
   "id": "9376067f",
   "metadata": {},
   "outputs": [
    {
     "data": {
      "text/plain": [
       "Index(['Company', 'TypeName', 'Inches', 'Ram', 'Gpu', 'OpSys', 'Weight',\n",
       "       'Price', 'Touchscreen', 'Ips', 'x_res', 'y_res', 'ppi', 'cpu_brand',\n",
       "       'HDD', 'SSD', 'Hybrid', 'Flash_Storage'],\n",
       "      dtype='object')"
      ]
     },
     "execution_count": 145,
     "metadata": {},
     "output_type": "execute_result"
    }
   ],
   "source": [
    "#now i can drop Memory column\n",
    "df.drop(columns=['Memory'],inplace = True)\n",
    "df.columns"
   ]
  },
  {
   "cell_type": "markdown",
   "id": "85dd9799",
   "metadata": {},
   "source": [
    "#### 4.5 feature engineering on df['Gpu']"
   ]
  },
  {
   "cell_type": "code",
   "execution_count": 146,
   "id": "16c8a1f4",
   "metadata": {},
   "outputs": [
    {
     "data": {
      "text/plain": [
       "Intel HD Graphics 620      279\n",
       "Intel HD Graphics 520      181\n",
       "Intel UHD Graphics 620      68\n",
       "Nvidia GeForce GTX 1050     66\n",
       "Nvidia GeForce GTX 1060     48\n",
       "                          ... \n",
       "AMD Radeon R5 520            1\n",
       "AMD Radeon R7                1\n",
       "Intel HD Graphics 540        1\n",
       "AMD Radeon 540               1\n",
       "ARM Mali T860 MP4            1\n",
       "Name: Gpu, Length: 110, dtype: int64"
      ]
     },
     "execution_count": 146,
     "metadata": {},
     "output_type": "execute_result"
    }
   ],
   "source": [
    "df['Gpu'].value_counts()\n",
    "\n",
    "#1. so many information in a single column\n",
    "#2. i am just extracting brand name of graphics cards"
   ]
  },
  {
   "cell_type": "code",
   "execution_count": 147,
   "id": "5d33d8fa",
   "metadata": {},
   "outputs": [
    {
     "data": {
      "text/plain": [
       "0        Intel\n",
       "1        Intel\n",
       "2        Intel\n",
       "3          AMD\n",
       "4        Intel\n",
       "         ...  \n",
       "1269    Nvidia\n",
       "1270     Intel\n",
       "1271     Intel\n",
       "1272     Intel\n",
       "1273       AMD\n",
       "Name: Gpu, Length: 1274, dtype: object"
      ]
     },
     "execution_count": 147,
     "metadata": {},
     "output_type": "execute_result"
    }
   ],
   "source": [
    "df['Gpu'].apply(lambda x : x.split()[0])"
   ]
  },
  {
   "cell_type": "code",
   "execution_count": 148,
   "id": "31530bc4",
   "metadata": {},
   "outputs": [
    {
     "data": {
      "text/html": [
       "<div>\n",
       "<style scoped>\n",
       "    .dataframe tbody tr th:only-of-type {\n",
       "        vertical-align: middle;\n",
       "    }\n",
       "\n",
       "    .dataframe tbody tr th {\n",
       "        vertical-align: top;\n",
       "    }\n",
       "\n",
       "    .dataframe thead th {\n",
       "        text-align: right;\n",
       "    }\n",
       "</style>\n",
       "<table border=\"1\" class=\"dataframe\">\n",
       "  <thead>\n",
       "    <tr style=\"text-align: right;\">\n",
       "      <th></th>\n",
       "      <th>Company</th>\n",
       "      <th>TypeName</th>\n",
       "      <th>Inches</th>\n",
       "      <th>Ram</th>\n",
       "      <th>Gpu</th>\n",
       "      <th>OpSys</th>\n",
       "      <th>Weight</th>\n",
       "      <th>Price</th>\n",
       "      <th>Touchscreen</th>\n",
       "      <th>Ips</th>\n",
       "      <th>x_res</th>\n",
       "      <th>y_res</th>\n",
       "      <th>ppi</th>\n",
       "      <th>cpu_brand</th>\n",
       "      <th>HDD</th>\n",
       "      <th>SSD</th>\n",
       "      <th>Hybrid</th>\n",
       "      <th>Flash_Storage</th>\n",
       "      <th>gpu_brand</th>\n",
       "    </tr>\n",
       "  </thead>\n",
       "  <tbody>\n",
       "    <tr>\n",
       "      <th>0</th>\n",
       "      <td>Apple</td>\n",
       "      <td>Ultrabook</td>\n",
       "      <td>13.3</td>\n",
       "      <td>8</td>\n",
       "      <td>Intel Iris Plus Graphics 640</td>\n",
       "      <td>macOS</td>\n",
       "      <td>1.37</td>\n",
       "      <td>71378.6832</td>\n",
       "      <td>0</td>\n",
       "      <td>1</td>\n",
       "      <td>2560</td>\n",
       "      <td>1600</td>\n",
       "      <td>226.983005</td>\n",
       "      <td>Intel Core i5</td>\n",
       "      <td>0</td>\n",
       "      <td>128</td>\n",
       "      <td>0</td>\n",
       "      <td>0</td>\n",
       "      <td>Intel</td>\n",
       "    </tr>\n",
       "    <tr>\n",
       "      <th>1</th>\n",
       "      <td>Apple</td>\n",
       "      <td>Ultrabook</td>\n",
       "      <td>13.3</td>\n",
       "      <td>8</td>\n",
       "      <td>Intel HD Graphics 6000</td>\n",
       "      <td>macOS</td>\n",
       "      <td>1.34</td>\n",
       "      <td>47895.5232</td>\n",
       "      <td>0</td>\n",
       "      <td>0</td>\n",
       "      <td>1440</td>\n",
       "      <td>900</td>\n",
       "      <td>127.677940</td>\n",
       "      <td>Intel Core i5</td>\n",
       "      <td>0</td>\n",
       "      <td>0</td>\n",
       "      <td>0</td>\n",
       "      <td>128</td>\n",
       "      <td>Intel</td>\n",
       "    </tr>\n",
       "  </tbody>\n",
       "</table>\n",
       "</div>"
      ],
      "text/plain": [
       "  Company   TypeName  Inches  Ram                           Gpu  OpSys  \\\n",
       "0   Apple  Ultrabook    13.3    8  Intel Iris Plus Graphics 640  macOS   \n",
       "1   Apple  Ultrabook    13.3    8        Intel HD Graphics 6000  macOS   \n",
       "\n",
       "   Weight       Price  Touchscreen  Ips  x_res  y_res         ppi  \\\n",
       "0    1.37  71378.6832            0    1   2560   1600  226.983005   \n",
       "1    1.34  47895.5232            0    0   1440    900  127.677940   \n",
       "\n",
       "       cpu_brand  HDD  SSD  Hybrid  Flash_Storage gpu_brand  \n",
       "0  Intel Core i5    0  128       0              0     Intel  \n",
       "1  Intel Core i5    0    0       0            128     Intel  "
      ]
     },
     "execution_count": 148,
     "metadata": {},
     "output_type": "execute_result"
    }
   ],
   "source": [
    "df['gpu_brand'] = df['Gpu'].apply(lambda x : x.split()[0])\n",
    "df.head(2)"
   ]
  },
  {
   "cell_type": "code",
   "execution_count": 149,
   "id": "6ac9e28a",
   "metadata": {},
   "outputs": [
    {
     "data": {
      "text/plain": [
       "Intel     703\n",
       "Nvidia    396\n",
       "AMD       174\n",
       "ARM         1\n",
       "Name: gpu_brand, dtype: int64"
      ]
     },
     "execution_count": 149,
     "metadata": {},
     "output_type": "execute_result"
    }
   ],
   "source": [
    "df['gpu_brand'].value_counts()\n",
    "\n",
    "#1. only 1 row has ARM brand and i can think of removing it."
   ]
  },
  {
   "cell_type": "code",
   "execution_count": 150,
   "id": "1e96fded",
   "metadata": {},
   "outputs": [],
   "source": [
    "df = df[df['gpu_brand'] != 'ARM']"
   ]
  },
  {
   "cell_type": "code",
   "execution_count": 151,
   "id": "2af3cfa9",
   "metadata": {},
   "outputs": [
    {
     "data": {
      "text/plain": [
       "Index(['Company', 'TypeName', 'Inches', 'Ram', 'OpSys', 'Weight', 'Price',\n",
       "       'Touchscreen', 'Ips', 'x_res', 'y_res', 'ppi', 'cpu_brand', 'HDD',\n",
       "       'SSD', 'Hybrid', 'Flash_Storage', 'gpu_brand'],\n",
       "      dtype='object')"
      ]
     },
     "execution_count": 151,
     "metadata": {},
     "output_type": "execute_result"
    }
   ],
   "source": [
    "#droping Gpu column\n",
    "df.drop(columns=['Gpu'],inplace = True)\n",
    "df.columns"
   ]
  },
  {
   "cell_type": "markdown",
   "id": "5db08f26",
   "metadata": {},
   "source": [
    "#### 4.6 feature engineering on df['OpSys']"
   ]
  },
  {
   "cell_type": "code",
   "execution_count": 152,
   "id": "46397bfb",
   "metadata": {},
   "outputs": [
    {
     "data": {
      "text/plain": [
       "Windows 10      1047\n",
       "No OS             66\n",
       "Linux             58\n",
       "Windows 7         45\n",
       "Chrome OS         26\n",
       "macOS             13\n",
       "Mac OS X           8\n",
       "Windows 10 S       8\n",
       "Android            2\n",
       "Name: OpSys, dtype: int64"
      ]
     },
     "execution_count": 152,
     "metadata": {},
     "output_type": "execute_result"
    }
   ],
   "source": [
    "df['OpSys'].value_counts()\n",
    "\n",
    "#1. i just want to make make categories lesser"
   ]
  },
  {
   "cell_type": "code",
   "execution_count": 153,
   "id": "425bf6a0",
   "metadata": {},
   "outputs": [],
   "source": [
    "def cat_os(inp):\n",
    "    if inp == 'Windows 10' or inp == 'Windows 7' or inp == 'Windows 10 S':\n",
    "        return 'Windows'\n",
    "    elif inp == 'macOS' or inp == 'Mac OS X':\n",
    "        return 'Mac'\n",
    "    else:\n",
    "        return 'Others/No OS/Linux'"
   ]
  },
  {
   "cell_type": "code",
   "execution_count": 154,
   "id": "bd4ac6e0",
   "metadata": {},
   "outputs": [
    {
     "data": {
      "text/html": [
       "<div>\n",
       "<style scoped>\n",
       "    .dataframe tbody tr th:only-of-type {\n",
       "        vertical-align: middle;\n",
       "    }\n",
       "\n",
       "    .dataframe tbody tr th {\n",
       "        vertical-align: top;\n",
       "    }\n",
       "\n",
       "    .dataframe thead th {\n",
       "        text-align: right;\n",
       "    }\n",
       "</style>\n",
       "<table border=\"1\" class=\"dataframe\">\n",
       "  <thead>\n",
       "    <tr style=\"text-align: right;\">\n",
       "      <th></th>\n",
       "      <th>Company</th>\n",
       "      <th>TypeName</th>\n",
       "      <th>Inches</th>\n",
       "      <th>Ram</th>\n",
       "      <th>OpSys</th>\n",
       "      <th>Weight</th>\n",
       "      <th>Price</th>\n",
       "      <th>Touchscreen</th>\n",
       "      <th>Ips</th>\n",
       "      <th>x_res</th>\n",
       "      <th>y_res</th>\n",
       "      <th>ppi</th>\n",
       "      <th>cpu_brand</th>\n",
       "      <th>HDD</th>\n",
       "      <th>SSD</th>\n",
       "      <th>Hybrid</th>\n",
       "      <th>Flash_Storage</th>\n",
       "      <th>gpu_brand</th>\n",
       "      <th>os</th>\n",
       "    </tr>\n",
       "  </thead>\n",
       "  <tbody>\n",
       "    <tr>\n",
       "      <th>496</th>\n",
       "      <td>Lenovo</td>\n",
       "      <td>Notebook</td>\n",
       "      <td>15.6</td>\n",
       "      <td>8</td>\n",
       "      <td>Windows 10</td>\n",
       "      <td>2.17</td>\n",
       "      <td>47893.392</td>\n",
       "      <td>0</td>\n",
       "      <td>0</td>\n",
       "      <td>1920</td>\n",
       "      <td>1080</td>\n",
       "      <td>141.211998</td>\n",
       "      <td>Intel Core i7</td>\n",
       "      <td>0</td>\n",
       "      <td>256</td>\n",
       "      <td>0</td>\n",
       "      <td>0</td>\n",
       "      <td>Intel</td>\n",
       "      <td>Windows</td>\n",
       "    </tr>\n",
       "    <tr>\n",
       "      <th>706</th>\n",
       "      <td>Acer</td>\n",
       "      <td>2 in 1 Convertible</td>\n",
       "      <td>13.3</td>\n",
       "      <td>8</td>\n",
       "      <td>Windows 10</td>\n",
       "      <td>1.60</td>\n",
       "      <td>53226.720</td>\n",
       "      <td>1</td>\n",
       "      <td>1</td>\n",
       "      <td>1920</td>\n",
       "      <td>1080</td>\n",
       "      <td>165.632118</td>\n",
       "      <td>Intel Core i5</td>\n",
       "      <td>0</td>\n",
       "      <td>256</td>\n",
       "      <td>0</td>\n",
       "      <td>0</td>\n",
       "      <td>Intel</td>\n",
       "      <td>Windows</td>\n",
       "    </tr>\n",
       "    <tr>\n",
       "      <th>831</th>\n",
       "      <td>Lenovo</td>\n",
       "      <td>Ultrabook</td>\n",
       "      <td>14.0</td>\n",
       "      <td>16</td>\n",
       "      <td>Windows 10</td>\n",
       "      <td>1.10</td>\n",
       "      <td>111834.720</td>\n",
       "      <td>0</td>\n",
       "      <td>1</td>\n",
       "      <td>2560</td>\n",
       "      <td>1440</td>\n",
       "      <td>209.800683</td>\n",
       "      <td>Intel Core i7</td>\n",
       "      <td>0</td>\n",
       "      <td>512</td>\n",
       "      <td>0</td>\n",
       "      <td>0</td>\n",
       "      <td>Intel</td>\n",
       "      <td>Windows</td>\n",
       "    </tr>\n",
       "  </tbody>\n",
       "</table>\n",
       "</div>"
      ],
      "text/plain": [
       "    Company            TypeName  Inches  Ram       OpSys  Weight       Price  \\\n",
       "496  Lenovo            Notebook    15.6    8  Windows 10    2.17   47893.392   \n",
       "706    Acer  2 in 1 Convertible    13.3    8  Windows 10    1.60   53226.720   \n",
       "831  Lenovo           Ultrabook    14.0   16  Windows 10    1.10  111834.720   \n",
       "\n",
       "     Touchscreen  Ips  x_res  y_res         ppi      cpu_brand  HDD  SSD  \\\n",
       "496            0    0   1920   1080  141.211998  Intel Core i7    0  256   \n",
       "706            1    1   1920   1080  165.632118  Intel Core i5    0  256   \n",
       "831            0    1   2560   1440  209.800683  Intel Core i7    0  512   \n",
       "\n",
       "     Hybrid  Flash_Storage gpu_brand       os  \n",
       "496       0              0     Intel  Windows  \n",
       "706       0              0     Intel  Windows  \n",
       "831       0              0     Intel  Windows  "
      ]
     },
     "execution_count": 154,
     "metadata": {},
     "output_type": "execute_result"
    }
   ],
   "source": [
    "df['os'] = df['OpSys'].apply(cat_os)\n",
    "df.sample(3)"
   ]
  },
  {
   "cell_type": "code",
   "execution_count": 155,
   "id": "91bf0f4c",
   "metadata": {},
   "outputs": [
    {
     "data": {
      "text/plain": [
       "Index(['Company', 'TypeName', 'Inches', 'Ram', 'Weight', 'Price',\n",
       "       'Touchscreen', 'Ips', 'x_res', 'y_res', 'ppi', 'cpu_brand', 'HDD',\n",
       "       'SSD', 'Hybrid', 'Flash_Storage', 'gpu_brand', 'os'],\n",
       "      dtype='object')"
      ]
     },
     "execution_count": 155,
     "metadata": {},
     "output_type": "execute_result"
    }
   ],
   "source": [
    "df.drop(columns=['OpSys'],inplace=True)\n",
    "df.columns"
   ]
  },
  {
   "cell_type": "code",
   "execution_count": 156,
   "id": "a7c81a11",
   "metadata": {},
   "outputs": [],
   "source": [
    "#### 4.7 "
   ]
  },
  {
   "cell_type": "markdown",
   "id": "3af0e202",
   "metadata": {},
   "source": [
    "### 4. performing EDA"
   ]
  },
  {
   "cell_type": "markdown",
   "id": "106b2e2c",
   "metadata": {},
   "source": [
    "#### 4.1 df['Price'] column analysis"
   ]
  },
  {
   "cell_type": "code",
   "execution_count": 157,
   "id": "7ead61bd",
   "metadata": {},
   "outputs": [
    {
     "data": {
      "text/plain": [
       "<Axes: xlabel='Price', ylabel='Density'>"
      ]
     },
     "execution_count": 157,
     "metadata": {},
     "output_type": "execute_result"
    },
    {
     "data": {
      "image/png": "[encoded data removed]",
      "text/plain": [
       "<Figure size 640x480 with 1 Axes>"
      ]
     },
     "metadata": {},
     "output_type": "display_data"
    }
   ],
   "source": [
    "sns.distplot(df['Price'])\n",
    "\n",
    "#1. we can say price is left skewed.\n",
    "#2. there are so many laptops with less price.\n",
    "#3. there are few laptops with high price.\n",
    "#4. so, it indicates that cheap laptop's buyers are large in no. and expensive laptop's buyers are less in no.\n",
    "#5. we have to focus on our skewed data while building algorithms."
   ]
  },
  {
   "cell_type": "markdown",
   "id": "b80555d4",
   "metadata": {},
   "source": [
    "#### 4.2 df['Company'] column analysis"
   ]
  },
  {
   "cell_type": "code",
   "execution_count": 158,
   "id": "71e5d680",
   "metadata": {},
   "outputs": [
    {
     "data": {
      "text/plain": [
       "Dell         291\n",
       "Lenovo       289\n",
       "HP           268\n",
       "Asus         151\n",
       "Acer         101\n",
       "MSI           54\n",
       "Toshiba       48\n",
       "Apple         21\n",
       "Samsung        8\n",
       "Razer          7\n",
       "Mediacom       7\n",
       "Microsoft      6\n",
       "Xiaomi         4\n",
       "Vero           4\n",
       "Chuwi          3\n",
       "Google         3\n",
       "Fujitsu        3\n",
       "LG             3\n",
       "Huawei         2\n",
       "Name: Company, dtype: int64"
      ]
     },
     "execution_count": 158,
     "metadata": {},
     "output_type": "execute_result"
    }
   ],
   "source": [
    "df['Company'].value_counts()"
   ]
  },
  {
   "cell_type": "code",
   "execution_count": 159,
   "id": "671d7a64",
   "metadata": {},
   "outputs": [
    {
     "data": {
      "text/plain": [
       "<Axes: >"
      ]
     },
     "execution_count": 159,
     "metadata": {},
     "output_type": "execute_result"
    },
    {
     "data": {
      "image/png": "[encoded data removed]",
      "text/plain": [
       "<Figure size 640x480 with 1 Axes>"
      ]
     },
     "metadata": {},
     "output_type": "display_data"
    }
   ],
   "source": [
    "df['Company'].value_counts().plot(kind='bar')\n",
    "\n",
    "#1. kuch brands k laptops bhaut saare h and kuch brands k laptops bhaut kam h\n",
    "#2. upto apple, data for laptops is considerable.\n",
    "#3. after apple, there are so many brands which have very few laptops and it indicate that these brands are less famous and \n",
    "#   we can think of removing these brands."
   ]
  },
  {
   "cell_type": "markdown",
   "id": "c569ff74",
   "metadata": {},
   "source": [
    "#### 4.3 now we will check avg price of brands and it will give us idea that brands name affect price or not ? ans : yes"
   ]
  },
  {
   "cell_type": "code",
   "execution_count": 160,
   "id": "461bb832",
   "metadata": {},
   "outputs": [
    {
     "data": {
      "image/png": "[encoded data removed]",
      "text/plain": [
       "<Figure size 640x480 with 1 Axes>"
      ]
     },
     "metadata": {},
     "output_type": "display_data"
    }
   ],
   "source": [
    "plt.xticks(rotation = 90)\n",
    "\n",
    "sns.barplot(x=df['Company'],\n",
    "            y=df['Price']\n",
    "           )\n",
    "\n",
    "plt.show()\n",
    "\n",
    "#1. with brand name, prices vary\n",
    "#2. laptop price depend on brand "
   ]
  },
  {
   "cell_type": "markdown",
   "id": "b901d37a",
   "metadata": {},
   "source": [
    "#### 4.4 df['TypeName'] column analysis"
   ]
  },
  {
   "cell_type": "code",
   "execution_count": 161,
   "id": "2673c118",
   "metadata": {},
   "outputs": [
    {
     "data": {
      "text/plain": [
       "<Axes: >"
      ]
     },
     "execution_count": 161,
     "metadata": {},
     "output_type": "execute_result"
    },
    {
     "data": {
      "image/png": "[encoded data removed]",
      "text/plain": [
       "<Figure size 640x480 with 1 Axes>"
      ]
     },
     "metadata": {},
     "output_type": "display_data"
    }
   ],
   "source": [
    "df['TypeName'].value_counts().plot(kind='bar')\n",
    "\n",
    "#1. notebook is highest selling laptop bcoz it is budget friendly and mostly student buy it."
   ]
  },
  {
   "cell_type": "markdown",
   "id": "a12f7646",
   "metadata": {},
   "source": [
    "#### 4.5 let's check avg. price of each type of laptops"
   ]
  },
  {
   "cell_type": "code",
   "execution_count": 162,
   "id": "fedc3939",
   "metadata": {},
   "outputs": [
    {
     "data": {
      "image/png": "[encoded data removed]",
      "text/plain": [
       "<Figure size 640x480 with 1 Axes>"
      ]
     },
     "metadata": {},
     "output_type": "display_data"
    }
   ],
   "source": [
    "plt.xticks(rotation = 90)\n",
    "\n",
    "sns.barplot(x=df['TypeName'],\n",
    "            y=df['Price']\n",
    "           )\n",
    "\n",
    "plt.show()\n",
    "\n",
    "#1. notebook and netbook are budget friendly\n",
    "#2. workstations are very high in price and are very less vaailable or bought through online sites"
   ]
  },
  {
   "cell_type": "markdown",
   "id": "a356be56",
   "metadata": {},
   "source": [
    "#### 4.6 df['Inches'] column analysis"
   ]
  },
  {
   "cell_type": "code",
   "execution_count": 163,
   "id": "7d441d49",
   "metadata": {},
   "outputs": [
    {
     "data": {
      "text/plain": [
       "<Axes: xlabel='Inches', ylabel='Density'>"
      ]
     },
     "execution_count": 163,
     "metadata": {},
     "output_type": "execute_result"
    },
    {
     "data": {
      "image/png": "[encoded data removed]",
      "text/plain": [
       "<Figure size 640x480 with 1 Axes>"
      ]
     },
     "metadata": {},
     "output_type": "display_data"
    }
   ],
   "source": [
    "sns.distplot(df['Inches'])\n",
    "\n",
    "#1. moslty laptops are of size 15.6, 13, 14, 17 "
   ]
  },
  {
   "cell_type": "code",
   "execution_count": 164,
   "id": "93b53ebc",
   "metadata": {},
   "outputs": [
    {
     "data": {
      "text/plain": [
       "<Axes: xlabel='Inches', ylabel='Price'>"
      ]
     },
     "execution_count": 164,
     "metadata": {},
     "output_type": "execute_result"
    },
    {
     "data": {
      "image/png": "[encoded data removed]",
      "text/plain": [
       "<Figure size 640x480 with 1 Axes>"
      ]
     },
     "metadata": {},
     "output_type": "display_data"
    }
   ],
   "source": [
    "sns.scatterplot(x=df['Inches'],\n",
    "                y=df['Price']\n",
    "               )\n",
    "\n",
    "#1. with increase in size, laptop price increases but relationship b/t inches and price is not so strong"
   ]
  },
  {
   "cell_type": "markdown",
   "id": "962d16cc",
   "metadata": {},
   "source": [
    "#### 4.7 df['Touchscreen'] column analysis"
   ]
  },
  {
   "cell_type": "code",
   "execution_count": 165,
   "id": "1e40c899",
   "metadata": {},
   "outputs": [
    {
     "data": {
      "text/plain": [
       "<Axes: >"
      ]
     },
     "execution_count": 165,
     "metadata": {},
     "output_type": "execute_result"
    },
    {
     "data": {
      "image/png": "[encoded data removed]",
      "text/plain": [
       "<Figure size 640x480 with 1 Axes>"
      ]
     },
     "metadata": {},
     "output_type": "display_data"
    }
   ],
   "source": [
    "df['Touchscreen'].value_counts().plot(kind='bar')\n",
    "\n",
    "#1. Touchscreen laptops are very less "
   ]
  },
  {
   "cell_type": "code",
   "execution_count": 166,
   "id": "0ebec84d",
   "metadata": {},
   "outputs": [
    {
     "data": {
      "text/plain": [
       "<Axes: xlabel='Touchscreen', ylabel='Price'>"
      ]
     },
     "execution_count": 166,
     "metadata": {},
     "output_type": "execute_result"
    },
    {
     "data": {
      "image/png": "[encoded data removed]",
      "text/plain": [
       "<Figure size 640x480 with 1 Axes>"
      ]
     },
     "metadata": {},
     "output_type": "display_data"
    }
   ],
   "source": [
    "sns.barplot(x=df['Touchscreen'],y=df['Price'])\n",
    "\n",
    "#1. touchscreen laptop's price is very high"
   ]
  },
  {
   "cell_type": "markdown",
   "id": "6cc13f2c",
   "metadata": {},
   "source": [
    "#### 4.8 df['Ips'] column analysis"
   ]
  },
  {
   "cell_type": "code",
   "execution_count": 167,
   "id": "0f382315",
   "metadata": {},
   "outputs": [
    {
     "data": {
      "text/plain": [
       "<Axes: >"
      ]
     },
     "execution_count": 167,
     "metadata": {},
     "output_type": "execute_result"
    },
    {
     "data": {
      "image/png": "[encoded data removed]",
      "text/plain": [
       "<Figure size 640x480 with 1 Axes>"
      ]
     },
     "metadata": {},
     "output_type": "display_data"
    }
   ],
   "source": [
    "df['Ips'].value_counts().plot(kind='bar')\n",
    "\n",
    "#1. ips display laptops are less than non ips display laptop"
   ]
  },
  {
   "cell_type": "code",
   "execution_count": 168,
   "id": "2348fbb7",
   "metadata": {},
   "outputs": [
    {
     "data": {
      "text/plain": [
       "<Axes: xlabel='Ips', ylabel='Price'>"
      ]
     },
     "execution_count": 168,
     "metadata": {},
     "output_type": "execute_result"
    },
    {
     "data": {
      "image/png": "[encoded data removed]",
      "text/plain": [
       "<Figure size 640x480 with 1 Axes>"
      ]
     },
     "metadata": {},
     "output_type": "display_data"
    }
   ],
   "source": [
    "sns.barplot(x=df['Ips'],y=df['Price'])\n",
    "\n",
    "#1. price for ips display laptops is high"
   ]
  },
  {
   "cell_type": "markdown",
   "id": "763405eb",
   "metadata": {},
   "source": [
    "#### 4.9 correlation analysis for resolution related columns"
   ]
  },
  {
   "cell_type": "code",
   "execution_count": 169,
   "id": "80cddc8b",
   "metadata": {},
   "outputs": [
    {
     "data": {
      "text/html": [
       "<div>\n",
       "<style scoped>\n",
       "    .dataframe tbody tr th:only-of-type {\n",
       "        vertical-align: middle;\n",
       "    }\n",
       "\n",
       "    .dataframe tbody tr th {\n",
       "        vertical-align: top;\n",
       "    }\n",
       "\n",
       "    .dataframe thead th {\n",
       "        text-align: right;\n",
       "    }\n",
       "</style>\n",
       "<table border=\"1\" class=\"dataframe\">\n",
       "  <thead>\n",
       "    <tr style=\"text-align: right;\">\n",
       "      <th></th>\n",
       "      <th>Inches</th>\n",
       "      <th>Ram</th>\n",
       "      <th>Weight</th>\n",
       "      <th>Price</th>\n",
       "      <th>Touchscreen</th>\n",
       "      <th>Ips</th>\n",
       "      <th>x_res</th>\n",
       "      <th>y_res</th>\n",
       "      <th>ppi</th>\n",
       "      <th>HDD</th>\n",
       "      <th>SSD</th>\n",
       "      <th>Hybrid</th>\n",
       "      <th>Flash_Storage</th>\n",
       "    </tr>\n",
       "  </thead>\n",
       "  <tbody>\n",
       "    <tr>\n",
       "      <th>Inches</th>\n",
       "      <td>1.000000</td>\n",
       "      <td>0.240551</td>\n",
       "      <td>0.826395</td>\n",
       "      <td>0.066079</td>\n",
       "      <td>-0.359605</td>\n",
       "      <td>-0.107806</td>\n",
       "      <td>-0.066522</td>\n",
       "      <td>-0.090246</td>\n",
       "      <td>-0.412608</td>\n",
       "      <td>0.528250</td>\n",
       "      <td>-0.104393</td>\n",
       "      <td>0.052184</td>\n",
       "      <td>-0.226009</td>\n",
       "    </tr>\n",
       "    <tr>\n",
       "      <th>Ram</th>\n",
       "      <td>0.240551</td>\n",
       "      <td>1.000000</td>\n",
       "      <td>0.389134</td>\n",
       "      <td>0.739996</td>\n",
       "      <td>0.113316</td>\n",
       "      <td>0.202809</td>\n",
       "      <td>0.424661</td>\n",
       "      <td>0.416773</td>\n",
       "      <td>0.294927</td>\n",
       "      <td>0.097340</td>\n",
       "      <td>0.599552</td>\n",
       "      <td>0.050275</td>\n",
       "      <td>-0.055956</td>\n",
       "    </tr>\n",
       "    <tr>\n",
       "      <th>Weight</th>\n",
       "      <td>0.826395</td>\n",
       "      <td>0.389134</td>\n",
       "      <td>1.000000</td>\n",
       "      <td>0.211667</td>\n",
       "      <td>-0.292288</td>\n",
       "      <td>0.023966</td>\n",
       "      <td>-0.027387</td>\n",
       "      <td>-0.048089</td>\n",
       "      <td>-0.319499</td>\n",
       "      <td>0.510876</td>\n",
       "      <td>-0.056984</td>\n",
       "      <td>0.105145</td>\n",
       "      <td>-0.176381</td>\n",
       "    </tr>\n",
       "    <tr>\n",
       "      <th>Price</th>\n",
       "      <td>0.066079</td>\n",
       "      <td>0.739996</td>\n",
       "      <td>0.211667</td>\n",
       "      <td>1.000000</td>\n",
       "      <td>0.190382</td>\n",
       "      <td>0.251514</td>\n",
       "      <td>0.552939</td>\n",
       "      <td>0.549944</td>\n",
       "      <td>0.471481</td>\n",
       "      <td>-0.098481</td>\n",
       "      <td>0.669808</td>\n",
       "      <td>0.022490</td>\n",
       "      <td>-0.036712</td>\n",
       "    </tr>\n",
       "    <tr>\n",
       "      <th>Touchscreen</th>\n",
       "      <td>-0.359605</td>\n",
       "      <td>0.113316</td>\n",
       "      <td>-0.292288</td>\n",
       "      <td>0.190382</td>\n",
       "      <td>1.000000</td>\n",
       "      <td>0.136973</td>\n",
       "      <td>0.342079</td>\n",
       "      <td>0.348087</td>\n",
       "      <td>0.452107</td>\n",
       "      <td>-0.205105</td>\n",
       "      <td>0.252142</td>\n",
       "      <td>-0.036483</td>\n",
       "      <td>-0.019146</td>\n",
       "    </tr>\n",
       "    <tr>\n",
       "      <th>Ips</th>\n",
       "      <td>-0.107806</td>\n",
       "      <td>0.202809</td>\n",
       "      <td>0.023966</td>\n",
       "      <td>0.251514</td>\n",
       "      <td>0.136973</td>\n",
       "      <td>1.000000</td>\n",
       "      <td>0.270744</td>\n",
       "      <td>0.277974</td>\n",
       "      <td>0.288833</td>\n",
       "      <td>-0.090411</td>\n",
       "      <td>0.215197</td>\n",
       "      <td>-0.013576</td>\n",
       "      <td>0.072706</td>\n",
       "    </tr>\n",
       "    <tr>\n",
       "      <th>x_res</th>\n",
       "      <td>-0.066522</td>\n",
       "      <td>0.424661</td>\n",
       "      <td>-0.027387</td>\n",
       "      <td>0.552939</td>\n",
       "      <td>0.342079</td>\n",
       "      <td>0.270744</td>\n",
       "      <td>1.000000</td>\n",
       "      <td>0.994331</td>\n",
       "      <td>0.930369</td>\n",
       "      <td>-0.119810</td>\n",
       "      <td>0.520235</td>\n",
       "      <td>-0.001724</td>\n",
       "      <td>-0.013878</td>\n",
       "    </tr>\n",
       "    <tr>\n",
       "      <th>y_res</th>\n",
       "      <td>-0.090246</td>\n",
       "      <td>0.416773</td>\n",
       "      <td>-0.048089</td>\n",
       "      <td>0.549944</td>\n",
       "      <td>0.348087</td>\n",
       "      <td>0.277974</td>\n",
       "      <td>0.994331</td>\n",
       "      <td>1.000000</td>\n",
       "      <td>0.938383</td>\n",
       "      <td>-0.131415</td>\n",
       "      <td>0.512442</td>\n",
       "      <td>-0.003226</td>\n",
       "      <td>0.018819</td>\n",
       "    </tr>\n",
       "    <tr>\n",
       "      <th>ppi</th>\n",
       "      <td>-0.412608</td>\n",
       "      <td>0.294927</td>\n",
       "      <td>-0.319499</td>\n",
       "      <td>0.471481</td>\n",
       "      <td>0.452107</td>\n",
       "      <td>0.288833</td>\n",
       "      <td>0.930369</td>\n",
       "      <td>0.938383</td>\n",
       "      <td>1.000000</td>\n",
       "      <td>-0.290774</td>\n",
       "      <td>0.499899</td>\n",
       "      <td>-0.020944</td>\n",
       "      <td>0.079691</td>\n",
       "    </tr>\n",
       "    <tr>\n",
       "      <th>HDD</th>\n",
       "      <td>0.528250</td>\n",
       "      <td>0.097340</td>\n",
       "      <td>0.510876</td>\n",
       "      <td>-0.098481</td>\n",
       "      <td>-0.205105</td>\n",
       "      <td>-0.090411</td>\n",
       "      <td>-0.119810</td>\n",
       "      <td>-0.131415</td>\n",
       "      <td>-0.290774</td>\n",
       "      <td>1.000000</td>\n",
       "      <td>-0.400625</td>\n",
       "      <td>-0.070240</td>\n",
       "      <td>-0.114385</td>\n",
       "    </tr>\n",
       "    <tr>\n",
       "      <th>SSD</th>\n",
       "      <td>-0.104393</td>\n",
       "      <td>0.599552</td>\n",
       "      <td>-0.056984</td>\n",
       "      <td>0.669808</td>\n",
       "      <td>0.252142</td>\n",
       "      <td>0.215197</td>\n",
       "      <td>0.520235</td>\n",
       "      <td>0.512442</td>\n",
       "      <td>0.499899</td>\n",
       "      <td>-0.400625</td>\n",
       "      <td>1.000000</td>\n",
       "      <td>-0.049736</td>\n",
       "      <td>-0.147001</td>\n",
       "    </tr>\n",
       "    <tr>\n",
       "      <th>Hybrid</th>\n",
       "      <td>0.052184</td>\n",
       "      <td>0.050275</td>\n",
       "      <td>0.105145</td>\n",
       "      <td>0.022490</td>\n",
       "      <td>-0.036483</td>\n",
       "      <td>-0.013576</td>\n",
       "      <td>-0.001724</td>\n",
       "      <td>-0.003226</td>\n",
       "      <td>-0.020944</td>\n",
       "      <td>-0.070240</td>\n",
       "      <td>-0.049736</td>\n",
       "      <td>1.000000</td>\n",
       "      <td>-0.012939</td>\n",
       "    </tr>\n",
       "    <tr>\n",
       "      <th>Flash_Storage</th>\n",
       "      <td>-0.226009</td>\n",
       "      <td>-0.055956</td>\n",
       "      <td>-0.176381</td>\n",
       "      <td>-0.036712</td>\n",
       "      <td>-0.019146</td>\n",
       "      <td>0.072706</td>\n",
       "      <td>-0.013878</td>\n",
       "      <td>0.018819</td>\n",
       "      <td>0.079691</td>\n",
       "      <td>-0.114385</td>\n",
       "      <td>-0.147001</td>\n",
       "      <td>-0.012939</td>\n",
       "      <td>1.000000</td>\n",
       "    </tr>\n",
       "  </tbody>\n",
       "</table>\n",
       "</div>"
      ],
      "text/plain": [
       "                 Inches       Ram    Weight     Price  Touchscreen       Ips  \\\n",
       "Inches         1.000000  0.240551  0.826395  0.066079    -0.359605 -0.107806   \n",
       "Ram            0.240551  1.000000  0.389134  0.739996     0.113316  0.202809   \n",
       "Weight         0.826395  0.389134  1.000000  0.211667    -0.292288  0.023966   \n",
       "Price          0.066079  0.739996  0.211667  1.000000     0.190382  0.251514   \n",
       "Touchscreen   -0.359605  0.113316 -0.292288  0.190382     1.000000  0.136973   \n",
       "Ips           -0.107806  0.202809  0.023966  0.251514     0.136973  1.000000   \n",
       "x_res         -0.066522  0.424661 -0.027387  0.552939     0.342079  0.270744   \n",
       "y_res         -0.090246  0.416773 -0.048089  0.549944     0.348087  0.277974   \n",
       "ppi           -0.412608  0.294927 -0.319499  0.471481     0.452107  0.288833   \n",
       "HDD            0.528250  0.097340  0.510876 -0.098481    -0.205105 -0.090411   \n",
       "SSD           -0.104393  0.599552 -0.056984  0.669808     0.252142  0.215197   \n",
       "Hybrid         0.052184  0.050275  0.105145  0.022490    -0.036483 -0.013576   \n",
       "Flash_Storage -0.226009 -0.055956 -0.176381 -0.036712    -0.019146  0.072706   \n",
       "\n",
       "                  x_res     y_res       ppi       HDD       SSD    Hybrid  \\\n",
       "Inches        -0.066522 -0.090246 -0.412608  0.528250 -0.104393  0.052184   \n",
       "Ram            0.424661  0.416773  0.294927  0.097340  0.599552  0.050275   \n",
       "Weight        -0.027387 -0.048089 -0.319499  0.510876 -0.056984  0.105145   \n",
       "Price          0.552939  0.549944  0.471481 -0.098481  0.669808  0.022490   \n",
       "Touchscreen    0.342079  0.348087  0.452107 -0.205105  0.252142 -0.036483   \n",
       "Ips            0.270744  0.277974  0.288833 -0.090411  0.215197 -0.013576   \n",
       "x_res          1.000000  0.994331  0.930369 -0.119810  0.520235 -0.001724   \n",
       "y_res          0.994331  1.000000  0.938383 -0.131415  0.512442 -0.003226   \n",
       "ppi            0.930369  0.938383  1.000000 -0.290774  0.499899 -0.020944   \n",
       "HDD           -0.119810 -0.131415 -0.290774  1.000000 -0.400625 -0.070240   \n",
       "SSD            0.520235  0.512442  0.499899 -0.400625  1.000000 -0.049736   \n",
       "Hybrid        -0.001724 -0.003226 -0.020944 -0.070240 -0.049736  1.000000   \n",
       "Flash_Storage -0.013878  0.018819  0.079691 -0.114385 -0.147001 -0.012939   \n",
       "\n",
       "               Flash_Storage  \n",
       "Inches             -0.226009  \n",
       "Ram                -0.055956  \n",
       "Weight             -0.176381  \n",
       "Price              -0.036712  \n",
       "Touchscreen        -0.019146  \n",
       "Ips                 0.072706  \n",
       "x_res              -0.013878  \n",
       "y_res               0.018819  \n",
       "ppi                 0.079691  \n",
       "HDD                -0.114385  \n",
       "SSD                -0.147001  \n",
       "Hybrid             -0.012939  \n",
       "Flash_Storage       1.000000  "
      ]
     },
     "execution_count": 169,
     "metadata": {},
     "output_type": "execute_result"
    }
   ],
   "source": [
    "df.corr()\n",
    "\n",
    "#1. there is high corr. between x_res and y_res"
   ]
  },
  {
   "cell_type": "code",
   "execution_count": 170,
   "id": "501c5cb9",
   "metadata": {},
   "outputs": [
    {
     "data": {
      "text/plain": [
       "Inches           0.066079\n",
       "Ram              0.739996\n",
       "Weight           0.211667\n",
       "Price            1.000000\n",
       "Touchscreen      0.190382\n",
       "Ips              0.251514\n",
       "x_res            0.552939\n",
       "y_res            0.549944\n",
       "ppi              0.471481\n",
       "HDD             -0.098481\n",
       "SSD              0.669808\n",
       "Hybrid           0.022490\n",
       "Flash_Storage   -0.036712\n",
       "Name: Price, dtype: float64"
      ]
     },
     "execution_count": 170,
     "metadata": {},
     "output_type": "execute_result"
    }
   ],
   "source": [
    "df.corr()['Price']                                          #corr. w.r.t. Price\n",
    "\n",
    "#1. less corr b/w price and inches\n",
    "#2. high corr b/w price and x_res/y_res\n",
    "#3. ppi has good corr. with price\n",
    "#4. note : i can think of removing inches,x_res,y_res as all the info related to these three is contained in ppi\n",
    "#          also x_res and y_res have high corr. and inches has less corr. with price"
   ]
  },
  {
   "cell_type": "code",
   "execution_count": 171,
   "id": "3bcdd35d",
   "metadata": {},
   "outputs": [
    {
     "data": {
      "text/plain": [
       "Index(['Company', 'TypeName', 'Ram', 'Weight', 'Price', 'Touchscreen', 'Ips',\n",
       "       'ppi', 'cpu_brand', 'HDD', 'SSD', 'Hybrid', 'Flash_Storage',\n",
       "       'gpu_brand', 'os'],\n",
       "      dtype='object')"
      ]
     },
     "execution_count": 171,
     "metadata": {},
     "output_type": "execute_result"
    }
   ],
   "source": [
    "df.drop(columns=['Inches','x_res','y_res'],inplace=True)\n",
    "df.columns"
   ]
  },
  {
   "cell_type": "markdown",
   "id": "a7f75ee8",
   "metadata": {},
   "source": [
    "#### 4.10 df['brand_name'] column analysis"
   ]
  },
  {
   "cell_type": "code",
   "execution_count": 172,
   "id": "82b1e7d8",
   "metadata": {},
   "outputs": [
    {
     "data": {
      "image/png": "[encoded data removed]",
      "text/plain": [
       "<Figure size 640x480 with 1 Axes>"
      ]
     },
     "metadata": {},
     "output_type": "display_data"
    }
   ],
   "source": [
    "plt.xticks(rotation = 90)\n",
    "\n",
    "sns.barplot(x=df['cpu_brand'],\n",
    "            y=df['Price']\n",
    "           )\n",
    "\n",
    "plt.show()\n",
    "\n",
    "\n",
    "#1. laptops with intel i7 and intel M have very high price"
   ]
  },
  {
   "cell_type": "markdown",
   "id": "3f25b1c1",
   "metadata": {},
   "source": [
    "#### 4.11 df['Ram'] column analysis"
   ]
  },
  {
   "cell_type": "code",
   "execution_count": 173,
   "id": "86e5c152",
   "metadata": {},
   "outputs": [
    {
     "data": {
      "text/plain": [
       "<Axes: >"
      ]
     },
     "execution_count": 173,
     "metadata": {},
     "output_type": "execute_result"
    },
    {
     "data": {
      "image/png": "[encoded data removed]",
      "text/plain": [
       "<Figure size 640x480 with 1 Axes>"
      ]
     },
     "metadata": {},
     "output_type": "display_data"
    }
   ],
   "source": [
    "df['Ram'].value_counts().plot(kind='bar')\n",
    "\n",
    "#1. so 8gb ram is standard size in the laptops"
   ]
  },
  {
   "cell_type": "code",
   "execution_count": 174,
   "id": "e7dee9fe",
   "metadata": {},
   "outputs": [
    {
     "data": {
      "text/plain": [
       "<Axes: xlabel='Ram', ylabel='Price'>"
      ]
     },
     "execution_count": 174,
     "metadata": {},
     "output_type": "execute_result"
    },
    {
     "data": {
      "image/png": "[encoded data removed]",
      "text/plain": [
       "<Figure size 640x480 with 1 Axes>"
      ]
     },
     "metadata": {},
     "output_type": "display_data"
    }
   ],
   "source": [
    "sns.barplot(x=df['Ram'],\n",
    "            y=df['Price']\n",
    "           )\n",
    "\n",
    "#1. As the ram size increases, price also increases.\n",
    "#2. not much diff. in price for 8gb and 12gb bcoz some brands sold 12gb laptop on the price equivalent to 8gb ram laptop, so \n",
    "#   that they can compete with their competators."
   ]
  },
  {
   "cell_type": "markdown",
   "id": "7b525a77",
   "metadata": {},
   "source": [
    "#### 4.12 correlation analysis for memory related columns"
   ]
  },
  {
   "cell_type": "code",
   "execution_count": 175,
   "id": "5c2568dc",
   "metadata": {},
   "outputs": [
    {
     "data": {
      "text/plain": [
       "Ram              0.739996\n",
       "Weight           0.211667\n",
       "Price            1.000000\n",
       "Touchscreen      0.190382\n",
       "Ips              0.251514\n",
       "ppi              0.471481\n",
       "HDD             -0.098481\n",
       "SSD              0.669808\n",
       "Hybrid           0.022490\n",
       "Flash_Storage   -0.036712\n",
       "Name: Price, dtype: float64"
      ]
     },
     "execution_count": 175,
     "metadata": {},
     "output_type": "execute_result"
    }
   ],
   "source": [
    "df.corr()['Price']\n",
    "\n",
    "#1. ssd has high corr with price\n",
    "#2. hdd has negative corr with price\n",
    "#3. hybrid and flash_storage have very low corr. with price and i can think of removing these columns"
   ]
  },
  {
   "cell_type": "code",
   "execution_count": 176,
   "id": "f0c634c2",
   "metadata": {
    "scrolled": true
   },
   "outputs": [
    {
     "data": {
      "text/plain": [
       "Index(['Company', 'TypeName', 'Ram', 'Weight', 'Price', 'Touchscreen', 'Ips',\n",
       "       'ppi', 'cpu_brand', 'HDD', 'SSD', 'gpu_brand', 'os'],\n",
       "      dtype='object')"
      ]
     },
     "execution_count": 176,
     "metadata": {},
     "output_type": "execute_result"
    }
   ],
   "source": [
    "df.drop(columns=['Hybrid','Flash_Storage'],inplace=True)\n",
    "df.columns"
   ]
  },
  {
   "cell_type": "markdown",
   "id": "e5fe552f",
   "metadata": {},
   "source": [
    "#### 4.13 df['gpu_brand'] column analysis"
   ]
  },
  {
   "cell_type": "code",
   "execution_count": 177,
   "id": "3a985463",
   "metadata": {},
   "outputs": [
    {
     "data": {
      "image/png": "[encoded data removed]",
      "text/plain": [
       "<Figure size 640x480 with 1 Axes>"
      ]
     },
     "metadata": {},
     "output_type": "display_data"
    }
   ],
   "source": [
    "sns.barplot(x=df['gpu_brand'],\n",
    "            y=df['Price']\n",
    "            )\n",
    "\n",
    "plt.xticks(rotation = 90)\n",
    "plt.show()\n",
    "\n",
    "#1. clearly nvidia is expensive\n",
    "#2. AMD is less expensive than intel ? may be intel just intoduced some graphics card more expensive, that is why intel price\n",
    "#   goes up than AMD.\n",
    "#   let's try to compare median values"
   ]
  },
  {
   "cell_type": "code",
   "execution_count": 178,
   "id": "0546940d",
   "metadata": {},
   "outputs": [
    {
     "data": {
      "image/png": "[encoded data removed]",
      "text/plain": [
       "<Figure size 640x480 with 1 Axes>"
      ]
     },
     "metadata": {},
     "output_type": "display_data"
    }
   ],
   "source": [
    "sns.barplot(x=df['gpu_brand'],\n",
    "            y=df['Price'],\n",
    "            estimator = np.median\n",
    "            )\n",
    "\n",
    "plt.xticks(rotation = 90)\n",
    "plt.show()\n",
    "\n",
    "#1. i can see that, really intel is expensive than AMD"
   ]
  },
  {
   "cell_type": "markdown",
   "id": "0a3e3d9a",
   "metadata": {},
   "source": [
    "#### 4.14 df['os'] column analysis"
   ]
  },
  {
   "cell_type": "code",
   "execution_count": 179,
   "id": "19ea5658",
   "metadata": {},
   "outputs": [
    {
     "data": {
      "image/png": "[encoded data removed]",
      "text/plain": [
       "<Figure size 640x480 with 1 Axes>"
      ]
     },
     "metadata": {},
     "output_type": "display_data"
    }
   ],
   "source": [
    "sns.barplot(x=df['os'],\n",
    "            y=df['Price'])\n",
    "\n",
    "plt.xticks(rotation=90)\n",
    "plt.show()\n",
    "\n",
    "#1. price of mac is higher than windows."
   ]
  },
  {
   "cell_type": "markdown",
   "id": "7948a91d",
   "metadata": {},
   "source": [
    "#### 4.15 df['Weight'] column analysis"
   ]
  },
  {
   "cell_type": "code",
   "execution_count": 180,
   "id": "f2ff3dce",
   "metadata": {},
   "outputs": [
    {
     "data": {
      "text/plain": [
       "<Axes: xlabel='Weight', ylabel='Density'>"
      ]
     },
     "execution_count": 180,
     "metadata": {},
     "output_type": "execute_result"
    },
    {
     "data": {
      "image/png": "[encoded data removed]",
      "text/plain": [
       "<Figure size 640x480 with 1 Axes>"
      ]
     },
     "metadata": {},
     "output_type": "display_data"
    }
   ],
   "source": [
    "sns.distplot(df['Weight'])\n",
    "\n",
    "#1. this is fair and it is bimodal"
   ]
  },
  {
   "cell_type": "code",
   "execution_count": 181,
   "id": "6f350328",
   "metadata": {},
   "outputs": [
    {
     "data": {
      "text/plain": [
       "<Axes: xlabel='Weight', ylabel='Price'>"
      ]
     },
     "execution_count": 181,
     "metadata": {},
     "output_type": "execute_result"
    },
    {
     "data": {
      "image/png": "[encoded data removed]",
      "text/plain": [
       "<Figure size 640x480 with 1 Axes>"
      ]
     },
     "metadata": {},
     "output_type": "display_data"
    }
   ],
   "source": [
    "sns.scatterplot(x=df['Weight'], y=df['Price'])\n",
    "\n",
    "#1. as weight increses, price slightly increases"
   ]
  },
  {
   "cell_type": "code",
   "execution_count": 182,
   "id": "a0527fa3",
   "metadata": {},
   "outputs": [
    {
     "data": {
      "text/plain": [
       "Ram            0.739996\n",
       "Weight         0.211667\n",
       "Price          1.000000\n",
       "Touchscreen    0.190382\n",
       "Ips            0.251514\n",
       "ppi            0.471481\n",
       "HDD           -0.098481\n",
       "SSD            0.669808\n",
       "Name: Price, dtype: float64"
      ]
     },
     "execution_count": 182,
     "metadata": {},
     "output_type": "execute_result"
    }
   ],
   "source": [
    "df.corr()['Price']\n",
    "\n",
    "#1. weight has very less corr with price"
   ]
  },
  {
   "cell_type": "markdown",
   "id": "3f7c9530",
   "metadata": {},
   "source": [
    "#### 4.16 metric analysis "
   ]
  },
  {
   "cell_type": "code",
   "execution_count": 183,
   "id": "9f06c5ae",
   "metadata": {},
   "outputs": [
    {
     "data": {
      "text/html": [
       "<div>\n",
       "<style scoped>\n",
       "    .dataframe tbody tr th:only-of-type {\n",
       "        vertical-align: middle;\n",
       "    }\n",
       "\n",
       "    .dataframe tbody tr th {\n",
       "        vertical-align: top;\n",
       "    }\n",
       "\n",
       "    .dataframe thead th {\n",
       "        text-align: right;\n",
       "    }\n",
       "</style>\n",
       "<table border=\"1\" class=\"dataframe\">\n",
       "  <thead>\n",
       "    <tr style=\"text-align: right;\">\n",
       "      <th></th>\n",
       "      <th>Ram</th>\n",
       "      <th>Weight</th>\n",
       "      <th>Price</th>\n",
       "      <th>Touchscreen</th>\n",
       "      <th>Ips</th>\n",
       "      <th>ppi</th>\n",
       "      <th>HDD</th>\n",
       "      <th>SSD</th>\n",
       "    </tr>\n",
       "  </thead>\n",
       "  <tbody>\n",
       "    <tr>\n",
       "      <th>Ram</th>\n",
       "      <td>1.000000</td>\n",
       "      <td>0.389134</td>\n",
       "      <td>0.739996</td>\n",
       "      <td>0.113316</td>\n",
       "      <td>0.202809</td>\n",
       "      <td>0.294927</td>\n",
       "      <td>0.097340</td>\n",
       "      <td>0.599552</td>\n",
       "    </tr>\n",
       "    <tr>\n",
       "      <th>Weight</th>\n",
       "      <td>0.389134</td>\n",
       "      <td>1.000000</td>\n",
       "      <td>0.211667</td>\n",
       "      <td>-0.292288</td>\n",
       "      <td>0.023966</td>\n",
       "      <td>-0.319499</td>\n",
       "      <td>0.510876</td>\n",
       "      <td>-0.056984</td>\n",
       "    </tr>\n",
       "    <tr>\n",
       "      <th>Price</th>\n",
       "      <td>0.739996</td>\n",
       "      <td>0.211667</td>\n",
       "      <td>1.000000</td>\n",
       "      <td>0.190382</td>\n",
       "      <td>0.251514</td>\n",
       "      <td>0.471481</td>\n",
       "      <td>-0.098481</td>\n",
       "      <td>0.669808</td>\n",
       "    </tr>\n",
       "    <tr>\n",
       "      <th>Touchscreen</th>\n",
       "      <td>0.113316</td>\n",
       "      <td>-0.292288</td>\n",
       "      <td>0.190382</td>\n",
       "      <td>1.000000</td>\n",
       "      <td>0.136973</td>\n",
       "      <td>0.452107</td>\n",
       "      <td>-0.205105</td>\n",
       "      <td>0.252142</td>\n",
       "    </tr>\n",
       "    <tr>\n",
       "      <th>Ips</th>\n",
       "      <td>0.202809</td>\n",
       "      <td>0.023966</td>\n",
       "      <td>0.251514</td>\n",
       "      <td>0.136973</td>\n",
       "      <td>1.000000</td>\n",
       "      <td>0.288833</td>\n",
       "      <td>-0.090411</td>\n",
       "      <td>0.215197</td>\n",
       "    </tr>\n",
       "    <tr>\n",
       "      <th>ppi</th>\n",
       "      <td>0.294927</td>\n",
       "      <td>-0.319499</td>\n",
       "      <td>0.471481</td>\n",
       "      <td>0.452107</td>\n",
       "      <td>0.288833</td>\n",
       "      <td>1.000000</td>\n",
       "      <td>-0.290774</td>\n",
       "      <td>0.499899</td>\n",
       "    </tr>\n",
       "    <tr>\n",
       "      <th>HDD</th>\n",
       "      <td>0.097340</td>\n",
       "      <td>0.510876</td>\n",
       "      <td>-0.098481</td>\n",
       "      <td>-0.205105</td>\n",
       "      <td>-0.090411</td>\n",
       "      <td>-0.290774</td>\n",
       "      <td>1.000000</td>\n",
       "      <td>-0.400625</td>\n",
       "    </tr>\n",
       "    <tr>\n",
       "      <th>SSD</th>\n",
       "      <td>0.599552</td>\n",
       "      <td>-0.056984</td>\n",
       "      <td>0.669808</td>\n",
       "      <td>0.252142</td>\n",
       "      <td>0.215197</td>\n",
       "      <td>0.499899</td>\n",
       "      <td>-0.400625</td>\n",
       "      <td>1.000000</td>\n",
       "    </tr>\n",
       "  </tbody>\n",
       "</table>\n",
       "</div>"
      ],
      "text/plain": [
       "                  Ram    Weight     Price  Touchscreen       Ips       ppi  \\\n",
       "Ram          1.000000  0.389134  0.739996     0.113316  0.202809  0.294927   \n",
       "Weight       0.389134  1.000000  0.211667    -0.292288  0.023966 -0.319499   \n",
       "Price        0.739996  0.211667  1.000000     0.190382  0.251514  0.471481   \n",
       "Touchscreen  0.113316 -0.292288  0.190382     1.000000  0.136973  0.452107   \n",
       "Ips          0.202809  0.023966  0.251514     0.136973  1.000000  0.288833   \n",
       "ppi          0.294927 -0.319499  0.471481     0.452107  0.288833  1.000000   \n",
       "HDD          0.097340  0.510876 -0.098481    -0.205105 -0.090411 -0.290774   \n",
       "SSD          0.599552 -0.056984  0.669808     0.252142  0.215197  0.499899   \n",
       "\n",
       "                  HDD       SSD  \n",
       "Ram          0.097340  0.599552  \n",
       "Weight       0.510876 -0.056984  \n",
       "Price       -0.098481  0.669808  \n",
       "Touchscreen -0.205105  0.252142  \n",
       "Ips         -0.090411  0.215197  \n",
       "ppi         -0.290774  0.499899  \n",
       "HDD          1.000000 -0.400625  \n",
       "SSD         -0.400625  1.000000  "
      ]
     },
     "execution_count": 183,
     "metadata": {},
     "output_type": "execute_result"
    }
   ],
   "source": [
    "df.corr()"
   ]
  },
  {
   "cell_type": "code",
   "execution_count": 184,
   "id": "f90c4b72",
   "metadata": {},
   "outputs": [
    {
     "data": {
      "text/plain": [
       "<Axes: >"
      ]
     },
     "execution_count": 184,
     "metadata": {},
     "output_type": "execute_result"
    },
    {
     "data": {
      "image/png": "[encoded data removed]",
      "text/plain": [
       "<Figure size 640x480 with 2 Axes>"
      ]
     },
     "metadata": {},
     "output_type": "display_data"
    }
   ],
   "source": [
    "sns.heatmap(df.corr())"
   ]
  },
  {
   "cell_type": "markdown",
   "id": "31c2ae9a",
   "metadata": {},
   "source": [
    "### 6. handling target colummn"
   ]
  },
  {
   "cell_type": "code",
   "execution_count": 185,
   "id": "8cef1886",
   "metadata": {},
   "outputs": [],
   "source": [
    "#1. our target column is skewed and it can create problem for our ml algorithm\n",
    "#2. we try to use log transformation on our target variable"
   ]
  },
  {
   "cell_type": "code",
   "execution_count": 186,
   "id": "eb37ae26",
   "metadata": {},
   "outputs": [
    {
     "data": {
      "text/plain": [
       "<Axes: xlabel='Price', ylabel='Density'>"
      ]
     },
     "execution_count": 186,
     "metadata": {},
     "output_type": "execute_result"
    },
    {
     "data": {
      "image/png": "[encoded data removed]",
      "text/plain": [
       "<Figure size 640x480 with 1 Axes>"
      ]
     },
     "metadata": {},
     "output_type": "display_data"
    }
   ],
   "source": [
    "sns.distplot(df['Price'])"
   ]
  },
  {
   "cell_type": "code",
   "execution_count": 187,
   "id": "84cc4198",
   "metadata": {},
   "outputs": [
    {
     "data": {
      "text/plain": [
       "<Axes: xlabel='Price', ylabel='Density'>"
      ]
     },
     "execution_count": 187,
     "metadata": {},
     "output_type": "execute_result"
    },
    {
     "data": {
      "image/png": "[encoded data removed]",
      "text/plain": [
       "<Figure size 640x480 with 1 Axes>"
      ]
     },
     "metadata": {},
     "output_type": "display_data"
    }
   ],
   "source": [
    "#dist. plot with log transformation\n",
    "\n",
    "sns.distplot(np.log(df['Price']))"
   ]
  },
  {
   "cell_type": "code",
   "execution_count": 188,
   "id": "bc1dea7a",
   "metadata": {},
   "outputs": [],
   "source": [
    "#note : 1) while extracting y, we will apply log transformation\n",
    "#       2) while predicting, we wil apply reverse of log i.e. exponent"
   ]
  },
  {
   "cell_type": "markdown",
   "id": "9b60d6e0",
   "metadata": {},
   "source": [
    "### 7. model building"
   ]
  },
  {
   "cell_type": "code",
   "execution_count": 189,
   "id": "85d55fd5",
   "metadata": {},
   "outputs": [],
   "source": [
    "x = df.drop(columns=['Price'])\n",
    "y = np.log(df['Price'])"
   ]
  },
  {
   "cell_type": "code",
   "execution_count": 190,
   "id": "e7d20faf",
   "metadata": {},
   "outputs": [
    {
     "data": {
      "text/html": [
       "<div>\n",
       "<style scoped>\n",
       "    .dataframe tbody tr th:only-of-type {\n",
       "        vertical-align: middle;\n",
       "    }\n",
       "\n",
       "    .dataframe tbody tr th {\n",
       "        vertical-align: top;\n",
       "    }\n",
       "\n",
       "    .dataframe thead th {\n",
       "        text-align: right;\n",
       "    }\n",
       "</style>\n",
       "<table border=\"1\" class=\"dataframe\">\n",
       "  <thead>\n",
       "    <tr style=\"text-align: right;\">\n",
       "      <th></th>\n",
       "      <th>Company</th>\n",
       "      <th>TypeName</th>\n",
       "      <th>Ram</th>\n",
       "      <th>Weight</th>\n",
       "      <th>Touchscreen</th>\n",
       "      <th>Ips</th>\n",
       "      <th>ppi</th>\n",
       "      <th>cpu_brand</th>\n",
       "      <th>HDD</th>\n",
       "      <th>SSD</th>\n",
       "      <th>gpu_brand</th>\n",
       "      <th>os</th>\n",
       "    </tr>\n",
       "  </thead>\n",
       "  <tbody>\n",
       "    <tr>\n",
       "      <th>391</th>\n",
       "      <td>Asus</td>\n",
       "      <td>Gaming</td>\n",
       "      <td>16</td>\n",
       "      <td>3.00</td>\n",
       "      <td>0</td>\n",
       "      <td>0</td>\n",
       "      <td>127.335675</td>\n",
       "      <td>Intel Core i7</td>\n",
       "      <td>1000</td>\n",
       "      <td>256</td>\n",
       "      <td>Nvidia</td>\n",
       "      <td>Windows</td>\n",
       "    </tr>\n",
       "    <tr>\n",
       "      <th>768</th>\n",
       "      <td>Samsung</td>\n",
       "      <td>Ultrabook</td>\n",
       "      <td>8</td>\n",
       "      <td>1.31</td>\n",
       "      <td>1</td>\n",
       "      <td>0</td>\n",
       "      <td>165.632118</td>\n",
       "      <td>Intel Core i7</td>\n",
       "      <td>0</td>\n",
       "      <td>256</td>\n",
       "      <td>Intel</td>\n",
       "      <td>Windows</td>\n",
       "    </tr>\n",
       "  </tbody>\n",
       "</table>\n",
       "</div>"
      ],
      "text/plain": [
       "     Company   TypeName  Ram  Weight  Touchscreen  Ips         ppi  \\\n",
       "391     Asus     Gaming   16    3.00            0    0  127.335675   \n",
       "768  Samsung  Ultrabook    8    1.31            1    0  165.632118   \n",
       "\n",
       "         cpu_brand   HDD  SSD gpu_brand       os  \n",
       "391  Intel Core i7  1000  256    Nvidia  Windows  \n",
       "768  Intel Core i7     0  256     Intel  Windows  "
      ]
     },
     "execution_count": 190,
     "metadata": {},
     "output_type": "execute_result"
    }
   ],
   "source": [
    "x.sample(2)"
   ]
  },
  {
   "cell_type": "code",
   "execution_count": 191,
   "id": "aacf671e",
   "metadata": {},
   "outputs": [
    {
     "data": {
      "text/plain": [
       "90     10.525212\n",
       "222    11.193004\n",
       "Name: Price, dtype: float64"
      ]
     },
     "execution_count": 191,
     "metadata": {},
     "output_type": "execute_result"
    }
   ],
   "source": [
    "y.sample(2)"
   ]
  },
  {
   "cell_type": "markdown",
   "id": "39807229",
   "metadata": {},
   "source": [
    "#### 7.1 train_test_split"
   ]
  },
  {
   "cell_type": "code",
   "execution_count": 192,
   "id": "f132285c",
   "metadata": {},
   "outputs": [
    {
     "data": {
      "text/html": [
       "<div>\n",
       "<style scoped>\n",
       "    .dataframe tbody tr th:only-of-type {\n",
       "        vertical-align: middle;\n",
       "    }\n",
       "\n",
       "    .dataframe tbody tr th {\n",
       "        vertical-align: top;\n",
       "    }\n",
       "\n",
       "    .dataframe thead th {\n",
       "        text-align: right;\n",
       "    }\n",
       "</style>\n",
       "<table border=\"1\" class=\"dataframe\">\n",
       "  <thead>\n",
       "    <tr style=\"text-align: right;\">\n",
       "      <th></th>\n",
       "      <th>Company</th>\n",
       "      <th>TypeName</th>\n",
       "      <th>Ram</th>\n",
       "      <th>Weight</th>\n",
       "      <th>Touchscreen</th>\n",
       "      <th>Ips</th>\n",
       "      <th>ppi</th>\n",
       "      <th>cpu_brand</th>\n",
       "      <th>HDD</th>\n",
       "      <th>SSD</th>\n",
       "      <th>gpu_brand</th>\n",
       "      <th>os</th>\n",
       "    </tr>\n",
       "  </thead>\n",
       "  <tbody>\n",
       "    <tr>\n",
       "      <th>654</th>\n",
       "      <td>HP</td>\n",
       "      <td>Notebook</td>\n",
       "      <td>4</td>\n",
       "      <td>1.86</td>\n",
       "      <td>0</td>\n",
       "      <td>0</td>\n",
       "      <td>100.454670</td>\n",
       "      <td>Intel Core i3</td>\n",
       "      <td>500</td>\n",
       "      <td>0</td>\n",
       "      <td>Intel</td>\n",
       "      <td>Others/No OS/Linux</td>\n",
       "    </tr>\n",
       "    <tr>\n",
       "      <th>747</th>\n",
       "      <td>HP</td>\n",
       "      <td>Notebook</td>\n",
       "      <td>8</td>\n",
       "      <td>1.86</td>\n",
       "      <td>0</td>\n",
       "      <td>0</td>\n",
       "      <td>141.211998</td>\n",
       "      <td>Intel Core i3</td>\n",
       "      <td>0</td>\n",
       "      <td>256</td>\n",
       "      <td>Intel</td>\n",
       "      <td>Windows</td>\n",
       "    </tr>\n",
       "  </tbody>\n",
       "</table>\n",
       "</div>"
      ],
      "text/plain": [
       "    Company  TypeName  Ram  Weight  Touchscreen  Ips         ppi  \\\n",
       "654      HP  Notebook    4    1.86            0    0  100.454670   \n",
       "747      HP  Notebook    8    1.86            0    0  141.211998   \n",
       "\n",
       "         cpu_brand  HDD  SSD gpu_brand                  os  \n",
       "654  Intel Core i3  500    0     Intel  Others/No OS/Linux  \n",
       "747  Intel Core i3    0  256     Intel             Windows  "
      ]
     },
     "execution_count": 192,
     "metadata": {},
     "output_type": "execute_result"
    }
   ],
   "source": [
    "from sklearn.model_selection import train_test_split\n",
    "\n",
    "x_train,x_test,y_train,y_test = train_test_split(x,y,test_size=0.20,random_state=5)\n",
    "x_train.head(2)"
   ]
  },
  {
   "cell_type": "markdown",
   "id": "3eab0394",
   "metadata": {},
   "source": [
    "#### 7.2 transformation (OneHotEncoding)"
   ]
  },
  {
   "cell_type": "code",
   "execution_count": 193,
   "id": "fce46797",
   "metadata": {},
   "outputs": [],
   "source": [
    "from sklearn.compose import ColumnTransformer\n",
    "from sklearn.pipeline import Pipeline\n",
    "from sklearn.preprocessing import OneHotEncoder"
   ]
  },
  {
   "cell_type": "code",
   "execution_count": 194,
   "id": "f64b74fd",
   "metadata": {},
   "outputs": [],
   "source": [
    "from sklearn.metrics import r2_score,mean_absolute_error\n",
    "\n",
    "from sklearn.linear_model import LinearRegression,Ridge,Lasso\n",
    "from sklearn.neighbors import KNeighborsRegressor\n",
    "from sklearn.tree import DecisionTreeRegressor\n",
    "from sklearn.ensemble import RandomForestRegressor,GradientBoostingRegressor,AdaBoostRegressor,ExtraTreesRegressor\n",
    "from sklearn.svm import SVR\n",
    "from xgboost import XGBRegressor"
   ]
  },
  {
   "cell_type": "code",
   "execution_count": 195,
   "id": "ee2629ca",
   "metadata": {},
   "outputs": [
    {
     "data": {
      "text/html": [
       "<div>\n",
       "<style scoped>\n",
       "    .dataframe tbody tr th:only-of-type {\n",
       "        vertical-align: middle;\n",
       "    }\n",
       "\n",
       "    .dataframe tbody tr th {\n",
       "        vertical-align: top;\n",
       "    }\n",
       "\n",
       "    .dataframe thead th {\n",
       "        text-align: right;\n",
       "    }\n",
       "</style>\n",
       "<table border=\"1\" class=\"dataframe\">\n",
       "  <thead>\n",
       "    <tr style=\"text-align: right;\">\n",
       "      <th></th>\n",
       "      <th>Company</th>\n",
       "      <th>TypeName</th>\n",
       "      <th>Ram</th>\n",
       "      <th>Weight</th>\n",
       "      <th>Price</th>\n",
       "      <th>Touchscreen</th>\n",
       "      <th>Ips</th>\n",
       "      <th>ppi</th>\n",
       "      <th>cpu_brand</th>\n",
       "      <th>HDD</th>\n",
       "      <th>SSD</th>\n",
       "      <th>gpu_brand</th>\n",
       "      <th>os</th>\n",
       "    </tr>\n",
       "  </thead>\n",
       "  <tbody>\n",
       "    <tr>\n",
       "      <th>0</th>\n",
       "      <td>Apple</td>\n",
       "      <td>Ultrabook</td>\n",
       "      <td>8</td>\n",
       "      <td>1.37</td>\n",
       "      <td>71378.6832</td>\n",
       "      <td>0</td>\n",
       "      <td>1</td>\n",
       "      <td>226.983005</td>\n",
       "      <td>Intel Core i5</td>\n",
       "      <td>0</td>\n",
       "      <td>128</td>\n",
       "      <td>Intel</td>\n",
       "      <td>Mac</td>\n",
       "    </tr>\n",
       "  </tbody>\n",
       "</table>\n",
       "</div>"
      ],
      "text/plain": [
       "  Company   TypeName  Ram  Weight       Price  Touchscreen  Ips         ppi  \\\n",
       "0   Apple  Ultrabook    8    1.37  71378.6832            0    1  226.983005   \n",
       "\n",
       "       cpu_brand  HDD  SSD gpu_brand   os  \n",
       "0  Intel Core i5    0  128     Intel  Mac  "
      ]
     },
     "execution_count": 195,
     "metadata": {},
     "output_type": "execute_result"
    }
   ],
   "source": [
    "df.head(1)"
   ]
  },
  {
   "cell_type": "code",
   "execution_count": 196,
   "id": "460ff940",
   "metadata": {},
   "outputs": [
    {
     "data": {
      "text/html": [
       "<div>\n",
       "<style scoped>\n",
       "    .dataframe tbody tr th:only-of-type {\n",
       "        vertical-align: middle;\n",
       "    }\n",
       "\n",
       "    .dataframe tbody tr th {\n",
       "        vertical-align: top;\n",
       "    }\n",
       "\n",
       "    .dataframe thead th {\n",
       "        text-align: right;\n",
       "    }\n",
       "</style>\n",
       "<table border=\"1\" class=\"dataframe\">\n",
       "  <thead>\n",
       "    <tr style=\"text-align: right;\">\n",
       "      <th></th>\n",
       "      <th>Company</th>\n",
       "      <th>TypeName</th>\n",
       "      <th>Ram</th>\n",
       "      <th>Weight</th>\n",
       "      <th>Touchscreen</th>\n",
       "      <th>Ips</th>\n",
       "      <th>ppi</th>\n",
       "      <th>cpu_brand</th>\n",
       "      <th>HDD</th>\n",
       "      <th>SSD</th>\n",
       "      <th>gpu_brand</th>\n",
       "      <th>os</th>\n",
       "    </tr>\n",
       "  </thead>\n",
       "  <tbody>\n",
       "    <tr>\n",
       "      <th>654</th>\n",
       "      <td>HP</td>\n",
       "      <td>Notebook</td>\n",
       "      <td>4</td>\n",
       "      <td>1.86</td>\n",
       "      <td>0</td>\n",
       "      <td>0</td>\n",
       "      <td>100.45467</td>\n",
       "      <td>Intel Core i3</td>\n",
       "      <td>500</td>\n",
       "      <td>0</td>\n",
       "      <td>Intel</td>\n",
       "      <td>Others/No OS/Linux</td>\n",
       "    </tr>\n",
       "  </tbody>\n",
       "</table>\n",
       "</div>"
      ],
      "text/plain": [
       "    Company  TypeName  Ram  Weight  Touchscreen  Ips        ppi  \\\n",
       "654      HP  Notebook    4    1.86            0    0  100.45467   \n",
       "\n",
       "         cpu_brand  HDD  SSD gpu_brand                  os  \n",
       "654  Intel Core i3  500    0     Intel  Others/No OS/Linux  "
      ]
     },
     "execution_count": 196,
     "metadata": {},
     "output_type": "execute_result"
    }
   ],
   "source": [
    "x_train.head(1)"
   ]
  },
  {
   "cell_type": "markdown",
   "id": "82c802ff",
   "metadata": {},
   "source": [
    "#### 7.3 pipeline"
   ]
  },
  {
   "cell_type": "code",
   "execution_count": 197,
   "id": "7c9e94a4",
   "metadata": {},
   "outputs": [
    {
     "name": "stdout",
     "output_type": "stream",
     "text": [
      "R2 score 0.852336115022941\n",
      "MAE score 0.18392961063027302\n"
     ]
    }
   ],
   "source": [
    "step1 = ColumnTransformer(\n",
    "                 transformers=[\n",
    "                               ('col_tnf',OneHotEncoder(sparse = False,drop='first'),[0,1,7,10,11])\n",
    "                             ], remainder='passthrough')\n",
    "\n",
    "#('col_tnf',OneHotEncoder(sparse = False,drop='first'),[0,1,7,10,11])\n",
    "#col_tnf --- name which i call for my transformer\n",
    "#OneHotEncoder --- my transformer\n",
    "#sparse=False --- it will print array otherwise it will give sparse matrix\n",
    "#drop='first' --- it will drop the Company column and take all the encoded columns if i am using encoder on company column\n",
    "#[0,1,7,10,11] --- column index on which i want to perform column transformation (OneHotEncoder); \n",
    "#use indexing according to x_train not df\n",
    "#\n",
    "#remainder='passthrough' --- shift + tab (3-4 times) ......  read it\n",
    "\n",
    "step2 = LinearRegression()\n",
    "\n",
    "pipe = Pipeline([('step1',step1),\n",
    "                 ('step2',step2)\n",
    "               ])\n",
    "\n",
    "\n",
    "pipe.fit(x_train,y_train)\n",
    "\n",
    "y_pred = pipe.predict(x_test)\n",
    "\n",
    "print('R2 score',r2_score(y_test,y_pred))\n",
    "print('MAE score',mean_absolute_error(y_test,y_pred))"
   ]
  },
  {
   "cell_type": "markdown",
   "id": "a8359b6d",
   "metadata": {},
   "source": [
    "#### 7.5 trying models"
   ]
  },
  {
   "cell_type": "markdown",
   "id": "35ab2c76",
   "metadata": {},
   "source": [
    "##### a) LinearRegression"
   ]
  },
  {
   "cell_type": "code",
   "execution_count": 198,
   "id": "9a6b48cc",
   "metadata": {},
   "outputs": [
    {
     "name": "stdout",
     "output_type": "stream",
     "text": [
      "R2 score 0.852336115022941\n",
      "MAE score 0.18392961063027302\n"
     ]
    }
   ],
   "source": [
    "step1 = ColumnTransformer(\n",
    "                 transformers=[\n",
    "                               ('col_tnf',OneHotEncoder(sparse = False,drop='first'),[0,1,7,10,11])\n",
    "                             ], remainder='passthrough')\n",
    "\n",
    "\n",
    "step2 = LinearRegression()\n",
    "\n",
    "\n",
    "pipe = Pipeline([('step1',step1),\n",
    "                 ('step2',step2)\n",
    "               ])\n",
    "\n",
    "\n",
    "pipe.fit(x_train,y_train)\n",
    "\n",
    "y_pred = pipe.predict(x_test)\n",
    "\n",
    "print('R2 score',r2_score(y_test,y_pred))\n",
    "print('MAE score',mean_absolute_error(y_test,y_pred))"
   ]
  },
  {
   "cell_type": "markdown",
   "id": "b397a67c",
   "metadata": {},
   "source": [
    "##### b) Ridge Regression"
   ]
  },
  {
   "cell_type": "code",
   "execution_count": 199,
   "id": "ce7bceba",
   "metadata": {},
   "outputs": [
    {
     "name": "stdout",
     "output_type": "stream",
     "text": [
      "R2 score 0.8490651098252073\n",
      "MAE score 0.18922416623380942\n"
     ]
    }
   ],
   "source": [
    "step1 = ColumnTransformer(\n",
    "                 transformers=[\n",
    "                               ('col_tnf',OneHotEncoder(sparse = False,drop='first'),[0,1,7,10,11])\n",
    "                             ], remainder='passthrough')\n",
    "\n",
    "\n",
    "step2 = Ridge(alpha=10)\n",
    "\n",
    "\n",
    "pipe = Pipeline([('step1',step1),\n",
    "                 ('step2',step2)\n",
    "               ])\n",
    "\n",
    "\n",
    "pipe.fit(x_train,y_train)\n",
    "\n",
    "y_pred = pipe.predict(x_test)\n",
    "\n",
    "print('R2 score',r2_score(y_test,y_pred))\n",
    "print('MAE score',mean_absolute_error(y_test,y_pred))"
   ]
  },
  {
   "cell_type": "markdown",
   "id": "fb3e8bbf",
   "metadata": {},
   "source": [
    "##### c) Lasso Regression"
   ]
  },
  {
   "cell_type": "code",
   "execution_count": 200,
   "id": "63e3e854",
   "metadata": {},
   "outputs": [
    {
     "name": "stdout",
     "output_type": "stream",
     "text": [
      "R2 score 0.8492271317371896\n",
      "MAE score 0.187128853501973\n"
     ]
    }
   ],
   "source": [
    "step1 = ColumnTransformer(\n",
    "                 transformers=[\n",
    "                               ('col_tnf',OneHotEncoder(sparse = False,drop='first'),[0,1,7,10,11])\n",
    "                             ], remainder='passthrough')\n",
    "\n",
    "\n",
    "step2 = Lasso(alpha=0.001)\n",
    "\n",
    "\n",
    "pipe = Pipeline([('step1',step1),\n",
    "                 ('step2',step2)\n",
    "               ])\n",
    "\n",
    "\n",
    "pipe.fit(x_train,y_train)\n",
    "\n",
    "y_pred = pipe.predict(x_test)\n",
    "\n",
    "print('R2 score',r2_score(y_test,y_pred))\n",
    "print('MAE score',mean_absolute_error(y_test,y_pred))"
   ]
  },
  {
   "cell_type": "markdown",
   "id": "5276230e",
   "metadata": {},
   "source": [
    "##### d) KNN"
   ]
  },
  {
   "cell_type": "code",
   "execution_count": 201,
   "id": "86184494",
   "metadata": {},
   "outputs": [
    {
     "name": "stdout",
     "output_type": "stream",
     "text": [
      "R2 score 0.7508720546799591\n",
      "MAE score 0.22220090809704898\n"
     ]
    }
   ],
   "source": [
    "step1 = ColumnTransformer(\n",
    "                 transformers=[\n",
    "                               ('col_tnf',OneHotEncoder(sparse = False,drop='first'),[0,1,7,10,11])\n",
    "                             ], remainder='passthrough')\n",
    "\n",
    "\n",
    "step2 = KNeighborsRegressor(n_neighbors=5)\n",
    "\n",
    "\n",
    "pipe = Pipeline([('step1',step1),\n",
    "                 ('step2',step2)\n",
    "               ])\n",
    "\n",
    "\n",
    "pipe.fit(x_train,y_train)\n",
    "\n",
    "y_pred = pipe.predict(x_test)\n",
    "\n",
    "print('R2 score',r2_score(y_test,y_pred))\n",
    "print('MAE score',mean_absolute_error(y_test,y_pred))"
   ]
  },
  {
   "cell_type": "markdown",
   "id": "82390e17",
   "metadata": {},
   "source": [
    "##### e) Decision Tree"
   ]
  },
  {
   "cell_type": "code",
   "execution_count": 202,
   "id": "294443e0",
   "metadata": {},
   "outputs": [
    {
     "name": "stdout",
     "output_type": "stream",
     "text": [
      "R2 score 0.8248959218347925\n",
      "MAE score 0.1872303691671598\n"
     ]
    }
   ],
   "source": [
    "step1 = ColumnTransformer(\n",
    "                 transformers=[\n",
    "                               ('col_tnf',OneHotEncoder(sparse = False,drop='first'),[0,1,7,10,11])\n",
    "                             ], remainder='passthrough')\n",
    "\n",
    "\n",
    "step2 = DecisionTreeRegressor(max_depth=8)\n",
    "\n",
    "\n",
    "pipe = Pipeline([('step1',step1),\n",
    "                 ('step2',step2)\n",
    "               ])\n",
    "\n",
    "\n",
    "pipe.fit(x_train,y_train)\n",
    "\n",
    "y_pred = pipe.predict(x_test)\n",
    "\n",
    "print('R2 score',r2_score(y_test,y_pred))\n",
    "print('MAE score',mean_absolute_error(y_test,y_pred))"
   ]
  },
  {
   "cell_type": "markdown",
   "id": "5ea3fe19",
   "metadata": {},
   "source": [
    "##### f) SVR"
   ]
  },
  {
   "cell_type": "code",
   "execution_count": 217,
   "id": "39f70e8b",
   "metadata": {},
   "outputs": [
    {
     "name": "stdout",
     "output_type": "stream",
     "text": [
      "R2 score 0.7063300711531851\n",
      "MAE score 0.2630677764095157\n"
     ]
    }
   ],
   "source": [
    "step1 = ColumnTransformer(\n",
    "                 transformers=[\n",
    "                               ('col_tnf',OneHotEncoder(sparse = False,drop='first'),[0,1,7,10,11])\n",
    "                             ], remainder='passthrough')\n",
    "\n",
    "\n",
    "step2 = SVR(kernel='rbf',C=100,epsilon=0.1)\n",
    "\n",
    "\n",
    "pipe = Pipeline([('step1',step1),\n",
    "                 ('step2',step2)\n",
    "               ])\n",
    "\n",
    "\n",
    "pipe.fit(x_train,y_train)\n",
    "\n",
    "y_pred = pipe.predict(x_test)\n",
    "\n",
    "print('R2 score',r2_score(y_test,y_pred))\n",
    "print('MAE score',mean_absolute_error(y_test,y_pred))"
   ]
  },
  {
   "cell_type": "markdown",
   "id": "702198ea",
   "metadata": {},
   "source": [
    "##### g) Randon Forest"
   ]
  },
  {
   "cell_type": "code",
   "execution_count": 205,
   "id": "4fe35688",
   "metadata": {},
   "outputs": [
    {
     "name": "stdout",
     "output_type": "stream",
     "text": [
      "R2 score 0.894193539298513\n",
      "MAE score 0.14960057250546077\n"
     ]
    }
   ],
   "source": [
    "step1 = ColumnTransformer(\n",
    "                 transformers=[\n",
    "                               ('col_tnf',OneHotEncoder(sparse = False,drop='first'),[0,1,7,10,11])\n",
    "                             ], remainder='passthrough')\n",
    "\n",
    "\n",
    "step2 = RandomForestRegressor(n_estimators=100,\n",
    "                              random_state=3,\n",
    "                              max_samples=0.5,\n",
    "                              max_features=0.75,\n",
    "                              max_depth=15\n",
    "                             )\n",
    "\n",
    "\n",
    "pipe = Pipeline([('step1',step1),\n",
    "                 ('step2',step2)\n",
    "               ])\n",
    "\n",
    "\n",
    "pipe.fit(x_train,y_train)\n",
    "\n",
    "y_pred = pipe.predict(x_test)\n",
    "\n",
    "print('R2 score',r2_score(y_test,y_pred))\n",
    "print('MAE score',mean_absolute_error(y_test,y_pred))"
   ]
  },
  {
   "cell_type": "markdown",
   "id": "c8091341",
   "metadata": {},
   "source": [
    "##### h)ExtraTrees"
   ]
  },
  {
   "cell_type": "code",
   "execution_count": 208,
   "id": "7b7a59ad",
   "metadata": {},
   "outputs": [
    {
     "name": "stdout",
     "output_type": "stream",
     "text": [
      "R2 score 0.8770789222641825\n",
      "MAE score 0.15353431157009495\n"
     ]
    }
   ],
   "source": [
    "step1 = ColumnTransformer(\n",
    "                 transformers=[\n",
    "                               ('col_tnf',OneHotEncoder(sparse = False,drop='first'),[0,1,7,10,11])\n",
    "                             ], remainder='passthrough')\n",
    "\n",
    "\n",
    "step2 = ExtraTreesRegressor(n_estimators=100,\n",
    "                              random_state=3,\n",
    "                              max_samples=0.5,\n",
    "                              max_features=0.75,\n",
    "                              max_depth=15,\n",
    "                              bootstrap=True\n",
    "                             )\n",
    "\n",
    "\n",
    "pipe = Pipeline([('step1',step1),\n",
    "                 ('step2',step2)\n",
    "               ])\n",
    "\n",
    "\n",
    "pipe.fit(x_train,y_train)\n",
    "\n",
    "y_pred = pipe.predict(x_test)\n",
    "\n",
    "print('R2 score',r2_score(y_test,y_pred))\n",
    "print('MAE score',mean_absolute_error(y_test,y_pred))"
   ]
  },
  {
   "cell_type": "markdown",
   "id": "38b7ea29",
   "metadata": {},
   "source": [
    "##### i) AdaBoost"
   ]
  },
  {
   "cell_type": "code",
   "execution_count": 209,
   "id": "ca527155",
   "metadata": {},
   "outputs": [
    {
     "name": "stdout",
     "output_type": "stream",
     "text": [
      "R2 score 0.8223281313738691\n",
      "MAE score 0.2115800022725793\n"
     ]
    }
   ],
   "source": [
    "step1 = ColumnTransformer(\n",
    "                 transformers=[\n",
    "                               ('col_tnf',OneHotEncoder(sparse = False,drop='first'),[0,1,7,10,11])\n",
    "                             ], remainder='passthrough')\n",
    "\n",
    "\n",
    "step2 = AdaBoostRegressor(n_estimators=15, learning_rate=1.0)\n",
    "\n",
    "\n",
    "pipe = Pipeline([('step1',step1),\n",
    "                 ('step2',step2)\n",
    "               ])\n",
    "\n",
    "\n",
    "pipe.fit(x_train,y_train)\n",
    "\n",
    "y_pred = pipe.predict(x_test)\n",
    "\n",
    "print('R2 score',r2_score(y_test,y_pred))\n",
    "print('MAE score',mean_absolute_error(y_test,y_pred))"
   ]
  },
  {
   "cell_type": "markdown",
   "id": "b2f94c69",
   "metadata": {},
   "source": [
    "##### j) GradientBoost"
   ]
  },
  {
   "cell_type": "code",
   "execution_count": 211,
   "id": "694e9128",
   "metadata": {},
   "outputs": [
    {
     "name": "stdout",
     "output_type": "stream",
     "text": [
      "R2 score 0.9071642870745016\n",
      "MAE score 0.14228265007208676\n"
     ]
    }
   ],
   "source": [
    "step1 = ColumnTransformer(\n",
    "                 transformers=[\n",
    "                               ('col_tnf',OneHotEncoder(sparse = False,drop='first'),[0,1,7,10,11])\n",
    "                             ], remainder='passthrough')\n",
    "\n",
    "\n",
    "step2 = GradientBoostingRegressor(n_estimators=500)\n",
    "\n",
    "\n",
    "pipe = Pipeline([('step1',step1),\n",
    "                 ('step2',step2)\n",
    "               ])\n",
    "\n",
    "\n",
    "pipe.fit(x_train,y_train)\n",
    "\n",
    "y_pred = pipe.predict(x_test)\n",
    "\n",
    "print('R2 score',r2_score(y_test,y_pred))\n",
    "print('MAE score',mean_absolute_error(y_test,y_pred))"
   ]
  },
  {
   "cell_type": "markdown",
   "id": "eaaa6fe3",
   "metadata": {},
   "source": [
    "##### k) XGBoost"
   ]
  },
  {
   "cell_type": "code",
   "execution_count": 219,
   "id": "81c00aac",
   "metadata": {},
   "outputs": [
    {
     "name": "stdout",
     "output_type": "stream",
     "text": [
      "R2 score 0.9072049542230903\n",
      "MAE score 0.14575447574713424\n"
     ]
    }
   ],
   "source": [
    "step1 = ColumnTransformer(\n",
    "                 transformers=[\n",
    "                               ('col_tnf',OneHotEncoder(sparse = False,drop='first'),[0,1,7,10,11])\n",
    "                             ], remainder='passthrough')\n",
    "\n",
    "\n",
    "step2 = XGBRegressor(n_estimators=45,max_depth=5, learning_rate=0.5)\n",
    "\n",
    "\n",
    "pipe = Pipeline([('step1',step1),\n",
    "                 ('step2',step2)\n",
    "               ])\n",
    "\n",
    "\n",
    "pipe.fit(x_train,y_train)\n",
    "\n",
    "y_pred = pipe.predict(x_test)\n",
    "\n",
    "print('R2 score',r2_score(y_test,y_pred))\n",
    "print('MAE score',mean_absolute_error(y_test,y_pred))"
   ]
  },
  {
   "cell_type": "markdown",
   "id": "48ff87ba",
   "metadata": {},
   "source": [
    "### 8. website creation"
   ]
  },
  {
   "cell_type": "code",
   "execution_count": 221,
   "id": "4032cd29",
   "metadata": {},
   "outputs": [],
   "source": [
    "#1. we are going with our best model\n",
    "#2. here i  go with random forest\n",
    "\n",
    "#3. so, i need to import obj of random forest i.e. pipe (just go and re run the random forest code)\n",
    "#4. i also need to import dataframe"
   ]
  },
  {
   "cell_type": "code",
   "execution_count": 220,
   "id": "d8aa4784",
   "metadata": {},
   "outputs": [
    {
     "name": "stdout",
     "output_type": "stream",
     "text": [
      "R2 score 0.894193539298513\n",
      "MAE score 0.14960057250546077\n"
     ]
    }
   ],
   "source": [
    "#randomforest\n",
    "\n",
    "step1 = ColumnTransformer(\n",
    "                 transformers=[\n",
    "                               ('col_tnf',OneHotEncoder(sparse = False,drop='first'),[0,1,7,10,11])\n",
    "                             ], remainder='passthrough')\n",
    "\n",
    "\n",
    "step2 = RandomForestRegressor(n_estimators=100,\n",
    "                              random_state=3,\n",
    "                              max_samples=0.5,\n",
    "                              max_features=0.75,\n",
    "                              max_depth=15\n",
    "                             )\n",
    "\n",
    "\n",
    "pipe = Pipeline([('step1',step1),\n",
    "                 ('step2',step2)\n",
    "               ])\n",
    "\n",
    "\n",
    "pipe.fit(x_train,y_train)\n",
    "\n",
    "y_pred = pipe.predict(x_test)\n",
    "\n",
    "print('R2 score',r2_score(y_test,y_pred))\n",
    "print('MAE score',mean_absolute_error(y_test,y_pred))"
   ]
  },
  {
   "cell_type": "code",
   "execution_count": 224,
   "id": "412648ba",
   "metadata": {},
   "outputs": [
    {
     "data": {
      "text/html": [
       "<div>\n",
       "<style scoped>\n",
       "    .dataframe tbody tr th:only-of-type {\n",
       "        vertical-align: middle;\n",
       "    }\n",
       "\n",
       "    .dataframe tbody tr th {\n",
       "        vertical-align: top;\n",
       "    }\n",
       "\n",
       "    .dataframe thead th {\n",
       "        text-align: right;\n",
       "    }\n",
       "</style>\n",
       "<table border=\"1\" class=\"dataframe\">\n",
       "  <thead>\n",
       "    <tr style=\"text-align: right;\">\n",
       "      <th></th>\n",
       "      <th>Company</th>\n",
       "      <th>TypeName</th>\n",
       "      <th>Ram</th>\n",
       "      <th>Weight</th>\n",
       "      <th>Price</th>\n",
       "      <th>Touchscreen</th>\n",
       "      <th>Ips</th>\n",
       "      <th>ppi</th>\n",
       "      <th>cpu_brand</th>\n",
       "      <th>HDD</th>\n",
       "      <th>SSD</th>\n",
       "      <th>gpu_brand</th>\n",
       "      <th>os</th>\n",
       "    </tr>\n",
       "  </thead>\n",
       "  <tbody>\n",
       "    <tr>\n",
       "      <th>0</th>\n",
       "      <td>Apple</td>\n",
       "      <td>Ultrabook</td>\n",
       "      <td>8</td>\n",
       "      <td>1.37</td>\n",
       "      <td>71378.6832</td>\n",
       "      <td>0</td>\n",
       "      <td>1</td>\n",
       "      <td>226.983005</td>\n",
       "      <td>Intel Core i5</td>\n",
       "      <td>0</td>\n",
       "      <td>128</td>\n",
       "      <td>Intel</td>\n",
       "      <td>Mac</td>\n",
       "    </tr>\n",
       "    <tr>\n",
       "      <th>1</th>\n",
       "      <td>Apple</td>\n",
       "      <td>Ultrabook</td>\n",
       "      <td>8</td>\n",
       "      <td>1.34</td>\n",
       "      <td>47895.5232</td>\n",
       "      <td>0</td>\n",
       "      <td>0</td>\n",
       "      <td>127.677940</td>\n",
       "      <td>Intel Core i5</td>\n",
       "      <td>0</td>\n",
       "      <td>0</td>\n",
       "      <td>Intel</td>\n",
       "      <td>Mac</td>\n",
       "    </tr>\n",
       "  </tbody>\n",
       "</table>\n",
       "</div>"
      ],
      "text/plain": [
       "  Company   TypeName  Ram  Weight       Price  Touchscreen  Ips         ppi  \\\n",
       "0   Apple  Ultrabook    8    1.37  71378.6832            0    1  226.983005   \n",
       "1   Apple  Ultrabook    8    1.34  47895.5232            0    0  127.677940   \n",
       "\n",
       "       cpu_brand  HDD  SSD gpu_brand   os  \n",
       "0  Intel Core i5    0  128     Intel  Mac  \n",
       "1  Intel Core i5    0    0     Intel  Mac  "
      ]
     },
     "execution_count": 224,
     "metadata": {},
     "output_type": "execute_result"
    }
   ],
   "source": [
    "#dataframe\n",
    "\n",
    "df.head(2)\n",
    "\n",
    "#if i am exporting this, then i have to make dropdown menu for website according to this dataframe"
   ]
  },
  {
   "cell_type": "markdown",
   "id": "80bf20fd",
   "metadata": {},
   "source": [
    "#### 8.1 exporting the model"
   ]
  },
  {
   "cell_type": "code",
   "execution_count": 225,
   "id": "f5af9c9b",
   "metadata": {},
   "outputs": [],
   "source": [
    "import pickle\n",
    "\n",
    "pickle.dump(df, open('df.pkl','wb'))          #wb = write binary\n",
    "pickle.dump(pipe, open('pipe.pkl','wb'))      #pipe = model_name"
   ]
  },
  {
   "cell_type": "code",
   "execution_count": 226,
   "id": "073226c7",
   "metadata": {},
   "outputs": [],
   "source": [
    "#in our destination folder we can see two file :\n",
    "#df.pkl\n",
    "#pipe.pkl\n",
    "\n",
    "#now open vscode"
   ]
  },
  {
   "cell_type": "code",
   "execution_count": null,
   "id": "e772922d",
   "metadata": {},
   "outputs": [],
   "source": []
  }
 ],
 "metadata": {
  "kernelspec": {
   "display_name": "Python 3 (ipykernel)",
   "language": "python",
   "name": "python3"
  },
  "language_info": {
   "codemirror_mode": {
    "name": "ipython",
    "version": 3
   },
   "file_extension": ".py",
   "mimetype": "text/x-python",
   "name": "python",
   "nbconvert_exporter": "python",
   "pygments_lexer": "ipython3",
   "version": "3.11.5"
  }
 },
 "nbformat": 4,
 "nbformat_minor": 5
}
